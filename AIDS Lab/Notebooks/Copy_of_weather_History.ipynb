{
  "cells": [
    {
      "cell_type": "code",
      "execution_count": 1,
      "metadata": {
        "id": "NszU62zpxCBU"
      },
      "outputs": [],
      "source": [
        "import pandas as pd\n",
        "import numpy as np\n",
        "from matplotlib import pyplot as plt\n",
        "import seaborn as sns\n",
        "from sklearn.model_selection import train_test_split"
      ]
    },
    {
      "cell_type": "code",
      "execution_count": 2,
      "metadata": {
        "id": "QZOc7X51xXgC"
      },
      "outputs": [],
      "source": [
        "df = pd.read_csv(r'C:\\Users\\Preeti Khamkar\\OneDrive\\Desktop\\AIDS Lab\\weatherHistory.csv')"
      ]
    },
    {
      "cell_type": "code",
      "execution_count": 3,
      "metadata": {
        "colab": {
          "base_uri": "https://localhost:8080/"
        },
        "id": "8jwTJHiNx4vu",
        "outputId": "e6010aaa-41e7-4165-d6ee-2a54d8563532"
      },
      "outputs": [
        {
          "data": {
            "text/plain": [
              "(96453, 12)"
            ]
          },
          "execution_count": 3,
          "metadata": {},
          "output_type": "execute_result"
        }
      ],
      "source": [
        "df.shape"
      ]
    },
    {
      "cell_type": "markdown",
      "metadata": {
        "id": "RFM9u_hG57fE"
      },
      "source": [
        "# **Experiment - 01**"
      ]
    },
    {
      "cell_type": "code",
      "execution_count": 4,
      "metadata": {
        "id": "NLqJzk5FyNpa"
      },
      "outputs": [],
      "source": [
        "df = df.drop(range(86200), axis=0)"
      ]
    },
    {
      "cell_type": "code",
      "execution_count": 5,
      "metadata": {
        "id": "4PwWBEtts0T8"
      },
      "outputs": [],
      "source": [
        "df = df.reset_index()"
      ]
    },
    {
      "cell_type": "code",
      "execution_count": 6,
      "metadata": {
        "colab": {
          "base_uri": "https://localhost:8080/"
        },
        "id": "Ji_eNlBAx6qd",
        "outputId": "c5c67635-13fc-41cb-cd6f-b2de2ccde3fb"
      },
      "outputs": [
        {
          "data": {
            "text/plain": [
              "index                       0\n",
              "Formatted_Date              0\n",
              "Summary                     0\n",
              "Precip_Type               374\n",
              "Temperature (C)             0\n",
              "Apparent_Temperature_C      0\n",
              "Humidity                    0\n",
              "Wind Speed (km/h)           0\n",
              "Wind Bearing (degrees)      0\n",
              "Visibility (km)             0\n",
              "Loud Cover                  0\n",
              "Pressure (millibars)        0\n",
              "Daily Summary               0\n",
              "dtype: int64"
            ]
          },
          "execution_count": 6,
          "metadata": {},
          "output_type": "execute_result"
        }
      ],
      "source": [
        "df.isna().sum()"
      ]
    },
    {
      "cell_type": "code",
      "execution_count": 7,
      "metadata": {
        "colab": {
          "base_uri": "https://localhost:8080/"
        },
        "id": "QZlwcM-Ws5Hs",
        "outputId": "c816af2f-d1d7-4502-ce85-3935470f1b0e"
      },
      "outputs": [
        {
          "name": "stdout",
          "output_type": "stream",
          "text": [
            "<class 'pandas.core.frame.DataFrame'>\n",
            "RangeIndex: 10253 entries, 0 to 10252\n",
            "Data columns (total 13 columns):\n",
            " #   Column                  Non-Null Count  Dtype  \n",
            "---  ------                  --------------  -----  \n",
            " 0   index                   10253 non-null  int64  \n",
            " 1   Formatted_Date          10253 non-null  object \n",
            " 2   Summary                 10253 non-null  object \n",
            " 3   Precip_Type             9879 non-null   object \n",
            " 4   Temperature (C)         10253 non-null  float64\n",
            " 5   Apparent_Temperature_C  10253 non-null  float64\n",
            " 6   Humidity                10253 non-null  float64\n",
            " 7   Wind Speed (km/h)       10253 non-null  float64\n",
            " 8   Wind Bearing (degrees)  10253 non-null  int64  \n",
            " 9   Visibility (km)         10253 non-null  float64\n",
            " 10  Loud Cover              10253 non-null  int64  \n",
            " 11  Pressure (millibars)    10253 non-null  float64\n",
            " 12  Daily Summary           10253 non-null  object \n",
            "dtypes: float64(6), int64(3), object(4)\n",
            "memory usage: 1.0+ MB\n"
          ]
        }
      ],
      "source": [
        "df.info()"
      ]
    },
    {
      "cell_type": "code",
      "execution_count": 8,
      "metadata": {
        "colab": {
          "base_uri": "https://localhost:8080/",
          "height": 414
        },
        "id": "DBp5_d-KyrI7",
        "outputId": "b7ee5588-470c-458f-87e2-2de81d8f2fb1"
      },
      "outputs": [
        {
          "data": {
            "text/html": [
              "<div>\n",
              "<style scoped>\n",
              "    .dataframe tbody tr th:only-of-type {\n",
              "        vertical-align: middle;\n",
              "    }\n",
              "\n",
              "    .dataframe tbody tr th {\n",
              "        vertical-align: top;\n",
              "    }\n",
              "\n",
              "    .dataframe thead th {\n",
              "        text-align: right;\n",
              "    }\n",
              "</style>\n",
              "<table border=\"1\" class=\"dataframe\">\n",
              "  <thead>\n",
              "    <tr style=\"text-align: right;\">\n",
              "      <th></th>\n",
              "      <th>index</th>\n",
              "      <th>Formatted_Date</th>\n",
              "      <th>Summary</th>\n",
              "      <th>Precip_Type</th>\n",
              "      <th>Temperature (C)</th>\n",
              "      <th>Apparent_Temperature_C</th>\n",
              "      <th>Humidity</th>\n",
              "      <th>Wind Speed (km/h)</th>\n",
              "      <th>Wind Bearing (degrees)</th>\n",
              "      <th>Visibility (km)</th>\n",
              "      <th>Loud Cover</th>\n",
              "      <th>Pressure (millibars)</th>\n",
              "      <th>Daily Summary</th>\n",
              "    </tr>\n",
              "  </thead>\n",
              "  <tbody>\n",
              "    <tr>\n",
              "      <th>0</th>\n",
              "      <td>86200</td>\n",
              "      <td>2015-11-09 20:00:00.000 +0100</td>\n",
              "      <td>Mostly Cloudy</td>\n",
              "      <td>rain</td>\n",
              "      <td>14.811111</td>\n",
              "      <td>14.811111</td>\n",
              "      <td>0.79</td>\n",
              "      <td>20.7851</td>\n",
              "      <td>300</td>\n",
              "      <td>8.1305</td>\n",
              "      <td>0</td>\n",
              "      <td>1022.57</td>\n",
              "      <td>Foggy until morning.</td>\n",
              "    </tr>\n",
              "    <tr>\n",
              "      <th>1</th>\n",
              "      <td>86201</td>\n",
              "      <td>2015-11-09 21:00:00.000 +0100</td>\n",
              "      <td>Mostly Cloudy</td>\n",
              "      <td>rain</td>\n",
              "      <td>15.188889</td>\n",
              "      <td>15.188889</td>\n",
              "      <td>0.73</td>\n",
              "      <td>20.7690</td>\n",
              "      <td>310</td>\n",
              "      <td>11.9784</td>\n",
              "      <td>0</td>\n",
              "      <td>1023.05</td>\n",
              "      <td>Foggy until morning.</td>\n",
              "    </tr>\n",
              "    <tr>\n",
              "      <th>2</th>\n",
              "      <td>86202</td>\n",
              "      <td>2015-11-09 22:00:00.000 +0100</td>\n",
              "      <td>Mostly Cloudy</td>\n",
              "      <td>rain</td>\n",
              "      <td>14.494444</td>\n",
              "      <td>14.494444</td>\n",
              "      <td>0.78</td>\n",
              "      <td>15.6009</td>\n",
              "      <td>307</td>\n",
              "      <td>11.6886</td>\n",
              "      <td>0</td>\n",
              "      <td>1023.30</td>\n",
              "      <td>Foggy until morning.</td>\n",
              "    </tr>\n",
              "    <tr>\n",
              "      <th>3</th>\n",
              "      <td>86203</td>\n",
              "      <td>2015-11-09 23:00:00.000 +0100</td>\n",
              "      <td>Mostly Cloudy</td>\n",
              "      <td>rain</td>\n",
              "      <td>13.750000</td>\n",
              "      <td>13.750000</td>\n",
              "      <td>0.81</td>\n",
              "      <td>11.5115</td>\n",
              "      <td>299</td>\n",
              "      <td>12.2199</td>\n",
              "      <td>0</td>\n",
              "      <td>1023.13</td>\n",
              "      <td>Foggy until morning.</td>\n",
              "    </tr>\n",
              "    <tr>\n",
              "      <th>4</th>\n",
              "      <td>86204</td>\n",
              "      <td>2015-10-01 00:00:00.000 +0200</td>\n",
              "      <td>Mostly Cloudy</td>\n",
              "      <td>rain</td>\n",
              "      <td>8.894444</td>\n",
              "      <td>6.327778</td>\n",
              "      <td>0.74</td>\n",
              "      <td>16.9533</td>\n",
              "      <td>21</td>\n",
              "      <td>16.1000</td>\n",
              "      <td>0</td>\n",
              "      <td>1030.56</td>\n",
              "      <td>Partly cloudy throughout the day.</td>\n",
              "    </tr>\n",
              "  </tbody>\n",
              "</table>\n",
              "</div>"
            ],
            "text/plain": [
              "   index                 Formatted_Date        Summary Precip_Type  \\\n",
              "0  86200  2015-11-09 20:00:00.000 +0100  Mostly Cloudy        rain   \n",
              "1  86201  2015-11-09 21:00:00.000 +0100  Mostly Cloudy        rain   \n",
              "2  86202  2015-11-09 22:00:00.000 +0100  Mostly Cloudy        rain   \n",
              "3  86203  2015-11-09 23:00:00.000 +0100  Mostly Cloudy        rain   \n",
              "4  86204  2015-10-01 00:00:00.000 +0200  Mostly Cloudy        rain   \n",
              "\n",
              "   Temperature (C)  Apparent_Temperature_C  Humidity  Wind Speed (km/h)  \\\n",
              "0        14.811111               14.811111      0.79            20.7851   \n",
              "1        15.188889               15.188889      0.73            20.7690   \n",
              "2        14.494444               14.494444      0.78            15.6009   \n",
              "3        13.750000               13.750000      0.81            11.5115   \n",
              "4         8.894444                6.327778      0.74            16.9533   \n",
              "\n",
              "   Wind Bearing (degrees)  Visibility (km)  Loud Cover  Pressure (millibars)  \\\n",
              "0                     300           8.1305           0               1022.57   \n",
              "1                     310          11.9784           0               1023.05   \n",
              "2                     307          11.6886           0               1023.30   \n",
              "3                     299          12.2199           0               1023.13   \n",
              "4                      21          16.1000           0               1030.56   \n",
              "\n",
              "                       Daily Summary  \n",
              "0               Foggy until morning.  \n",
              "1               Foggy until morning.  \n",
              "2               Foggy until morning.  \n",
              "3               Foggy until morning.  \n",
              "4  Partly cloudy throughout the day.  "
            ]
          },
          "execution_count": 8,
          "metadata": {},
          "output_type": "execute_result"
        }
      ],
      "source": [
        "df.head()"
      ]
    },
    {
      "cell_type": "code",
      "execution_count": 9,
      "metadata": {
        "colab": {
          "base_uri": "https://localhost:8080/",
          "height": 414
        },
        "id": "nwrQGHcYy4Hh",
        "outputId": "42d1267d-3326-4fef-8d13-1cd38984836e"
      },
      "outputs": [
        {
          "data": {
            "text/html": [
              "<div>\n",
              "<style scoped>\n",
              "    .dataframe tbody tr th:only-of-type {\n",
              "        vertical-align: middle;\n",
              "    }\n",
              "\n",
              "    .dataframe tbody tr th {\n",
              "        vertical-align: top;\n",
              "    }\n",
              "\n",
              "    .dataframe thead th {\n",
              "        text-align: right;\n",
              "    }\n",
              "</style>\n",
              "<table border=\"1\" class=\"dataframe\">\n",
              "  <thead>\n",
              "    <tr style=\"text-align: right;\">\n",
              "      <th></th>\n",
              "      <th>index</th>\n",
              "      <th>Formatted_Date</th>\n",
              "      <th>Summary</th>\n",
              "      <th>Precip_Type</th>\n",
              "      <th>Temperature (C)</th>\n",
              "      <th>Apparent_Temperature_C</th>\n",
              "      <th>Humidity</th>\n",
              "      <th>Wind Speed (km/h)</th>\n",
              "      <th>Wind Bearing (degrees)</th>\n",
              "      <th>Visibility (km)</th>\n",
              "      <th>Loud Cover</th>\n",
              "      <th>Pressure (millibars)</th>\n",
              "      <th>Daily Summary</th>\n",
              "    </tr>\n",
              "  </thead>\n",
              "  <tbody>\n",
              "    <tr>\n",
              "      <th>10248</th>\n",
              "      <td>96448</td>\n",
              "      <td>2016-09-09 19:00:00.000 +0200</td>\n",
              "      <td>Partly Cloudy</td>\n",
              "      <td>rain</td>\n",
              "      <td>26.016667</td>\n",
              "      <td>26.016667</td>\n",
              "      <td>0.43</td>\n",
              "      <td>10.9963</td>\n",
              "      <td>31</td>\n",
              "      <td>16.1000</td>\n",
              "      <td>0</td>\n",
              "      <td>1014.36</td>\n",
              "      <td>Partly cloudy starting in the morning.</td>\n",
              "    </tr>\n",
              "    <tr>\n",
              "      <th>10249</th>\n",
              "      <td>96449</td>\n",
              "      <td>2016-09-09 20:00:00.000 +0200</td>\n",
              "      <td>Partly Cloudy</td>\n",
              "      <td>rain</td>\n",
              "      <td>24.583333</td>\n",
              "      <td>24.583333</td>\n",
              "      <td>0.48</td>\n",
              "      <td>10.0947</td>\n",
              "      <td>20</td>\n",
              "      <td>15.5526</td>\n",
              "      <td>0</td>\n",
              "      <td>1015.16</td>\n",
              "      <td>Partly cloudy starting in the morning.</td>\n",
              "    </tr>\n",
              "    <tr>\n",
              "      <th>10250</th>\n",
              "      <td>96450</td>\n",
              "      <td>2016-09-09 21:00:00.000 +0200</td>\n",
              "      <td>Partly Cloudy</td>\n",
              "      <td>rain</td>\n",
              "      <td>22.038889</td>\n",
              "      <td>22.038889</td>\n",
              "      <td>0.56</td>\n",
              "      <td>8.9838</td>\n",
              "      <td>30</td>\n",
              "      <td>16.1000</td>\n",
              "      <td>0</td>\n",
              "      <td>1015.66</td>\n",
              "      <td>Partly cloudy starting in the morning.</td>\n",
              "    </tr>\n",
              "    <tr>\n",
              "      <th>10251</th>\n",
              "      <td>96451</td>\n",
              "      <td>2016-09-09 22:00:00.000 +0200</td>\n",
              "      <td>Partly Cloudy</td>\n",
              "      <td>rain</td>\n",
              "      <td>21.522222</td>\n",
              "      <td>21.522222</td>\n",
              "      <td>0.60</td>\n",
              "      <td>10.5294</td>\n",
              "      <td>20</td>\n",
              "      <td>16.1000</td>\n",
              "      <td>0</td>\n",
              "      <td>1015.95</td>\n",
              "      <td>Partly cloudy starting in the morning.</td>\n",
              "    </tr>\n",
              "    <tr>\n",
              "      <th>10252</th>\n",
              "      <td>96452</td>\n",
              "      <td>2016-09-09 23:00:00.000 +0200</td>\n",
              "      <td>Partly Cloudy</td>\n",
              "      <td>rain</td>\n",
              "      <td>20.438889</td>\n",
              "      <td>20.438889</td>\n",
              "      <td>0.61</td>\n",
              "      <td>5.8765</td>\n",
              "      <td>39</td>\n",
              "      <td>15.5204</td>\n",
              "      <td>0</td>\n",
              "      <td>1016.16</td>\n",
              "      <td>Partly cloudy starting in the morning.</td>\n",
              "    </tr>\n",
              "  </tbody>\n",
              "</table>\n",
              "</div>"
            ],
            "text/plain": [
              "       index                 Formatted_Date        Summary Precip_Type  \\\n",
              "10248  96448  2016-09-09 19:00:00.000 +0200  Partly Cloudy        rain   \n",
              "10249  96449  2016-09-09 20:00:00.000 +0200  Partly Cloudy        rain   \n",
              "10250  96450  2016-09-09 21:00:00.000 +0200  Partly Cloudy        rain   \n",
              "10251  96451  2016-09-09 22:00:00.000 +0200  Partly Cloudy        rain   \n",
              "10252  96452  2016-09-09 23:00:00.000 +0200  Partly Cloudy        rain   \n",
              "\n",
              "       Temperature (C)  Apparent_Temperature_C  Humidity  Wind Speed (km/h)  \\\n",
              "10248        26.016667               26.016667      0.43            10.9963   \n",
              "10249        24.583333               24.583333      0.48            10.0947   \n",
              "10250        22.038889               22.038889      0.56             8.9838   \n",
              "10251        21.522222               21.522222      0.60            10.5294   \n",
              "10252        20.438889               20.438889      0.61             5.8765   \n",
              "\n",
              "       Wind Bearing (degrees)  Visibility (km)  Loud Cover  \\\n",
              "10248                      31          16.1000           0   \n",
              "10249                      20          15.5526           0   \n",
              "10250                      30          16.1000           0   \n",
              "10251                      20          16.1000           0   \n",
              "10252                      39          15.5204           0   \n",
              "\n",
              "       Pressure (millibars)                           Daily Summary  \n",
              "10248               1014.36  Partly cloudy starting in the morning.  \n",
              "10249               1015.16  Partly cloudy starting in the morning.  \n",
              "10250               1015.66  Partly cloudy starting in the morning.  \n",
              "10251               1015.95  Partly cloudy starting in the morning.  \n",
              "10252               1016.16  Partly cloudy starting in the morning.  "
            ]
          },
          "execution_count": 9,
          "metadata": {},
          "output_type": "execute_result"
        }
      ],
      "source": [
        "df.tail()"
      ]
    },
    {
      "cell_type": "code",
      "execution_count": 10,
      "metadata": {
        "colab": {
          "base_uri": "https://localhost:8080/",
          "height": 175
        },
        "id": "vM_PJrEOsOyN",
        "outputId": "ef7edf9c-c8f6-4c14-cb14-7093ba6fc281"
      },
      "outputs": [
        {
          "data": {
            "text/html": [
              "<div>\n",
              "<style scoped>\n",
              "    .dataframe tbody tr th:only-of-type {\n",
              "        vertical-align: middle;\n",
              "    }\n",
              "\n",
              "    .dataframe tbody tr th {\n",
              "        vertical-align: top;\n",
              "    }\n",
              "\n",
              "    .dataframe thead th {\n",
              "        text-align: right;\n",
              "    }\n",
              "</style>\n",
              "<table border=\"1\" class=\"dataframe\">\n",
              "  <thead>\n",
              "    <tr style=\"text-align: right;\">\n",
              "      <th></th>\n",
              "      <th>Formatted_Date</th>\n",
              "      <th>Summary</th>\n",
              "      <th>Precip_Type</th>\n",
              "      <th>Daily Summary</th>\n",
              "    </tr>\n",
              "  </thead>\n",
              "  <tbody>\n",
              "    <tr>\n",
              "      <th>count</th>\n",
              "      <td>10253</td>\n",
              "      <td>10253</td>\n",
              "      <td>9879</td>\n",
              "      <td>10253</td>\n",
              "    </tr>\n",
              "    <tr>\n",
              "      <th>unique</th>\n",
              "      <td>10253</td>\n",
              "      <td>14</td>\n",
              "      <td>2</td>\n",
              "      <td>59</td>\n",
              "    </tr>\n",
              "    <tr>\n",
              "      <th>top</th>\n",
              "      <td>2015-11-09 20:00:00.000 +0100</td>\n",
              "      <td>Mostly Cloudy</td>\n",
              "      <td>rain</td>\n",
              "      <td>Mostly cloudy throughout the day.</td>\n",
              "    </tr>\n",
              "    <tr>\n",
              "      <th>freq</th>\n",
              "      <td>1</td>\n",
              "      <td>3801</td>\n",
              "      <td>9184</td>\n",
              "      <td>3311</td>\n",
              "    </tr>\n",
              "  </tbody>\n",
              "</table>\n",
              "</div>"
            ],
            "text/plain": [
              "                       Formatted_Date        Summary Precip_Type  \\\n",
              "count                           10253          10253        9879   \n",
              "unique                          10253             14           2   \n",
              "top     2015-11-09 20:00:00.000 +0100  Mostly Cloudy        rain   \n",
              "freq                                1           3801        9184   \n",
              "\n",
              "                            Daily Summary  \n",
              "count                               10253  \n",
              "unique                                 59  \n",
              "top     Mostly cloudy throughout the day.  \n",
              "freq                                 3311  "
            ]
          },
          "execution_count": 10,
          "metadata": {},
          "output_type": "execute_result"
        }
      ],
      "source": [
        "df.describe(include = object)"
      ]
    },
    {
      "cell_type": "code",
      "execution_count": 11,
      "metadata": {
        "id": "tW5rs8fZy651"
      },
      "outputs": [],
      "source": [
        "df = df.drop(['index', 'Loud Cover'] , axis = 1)"
      ]
    },
    {
      "cell_type": "markdown",
      "metadata": {
        "id": "6B-JX8-oumoc"
      },
      "source": [
        "**Missing Values**"
      ]
    },
    {
      "cell_type": "code",
      "execution_count": 12,
      "metadata": {
        "id": "8L_vOmXCzpcO"
      },
      "outputs": [
        {
          "data": {
            "text/html": [
              "<div>\n",
              "<style scoped>\n",
              "    .dataframe tbody tr th:only-of-type {\n",
              "        vertical-align: middle;\n",
              "    }\n",
              "\n",
              "    .dataframe tbody tr th {\n",
              "        vertical-align: top;\n",
              "    }\n",
              "\n",
              "    .dataframe thead th {\n",
              "        text-align: right;\n",
              "    }\n",
              "</style>\n",
              "<table border=\"1\" class=\"dataframe\">\n",
              "  <thead>\n",
              "    <tr style=\"text-align: right;\">\n",
              "      <th></th>\n",
              "      <th>Formatted_Date</th>\n",
              "      <th>Summary</th>\n",
              "      <th>Precip_Type</th>\n",
              "      <th>Temperature (C)</th>\n",
              "      <th>Apparent_Temperature_C</th>\n",
              "      <th>Humidity</th>\n",
              "      <th>Wind Speed (km/h)</th>\n",
              "      <th>Wind Bearing (degrees)</th>\n",
              "      <th>Visibility (km)</th>\n",
              "      <th>Pressure (millibars)</th>\n",
              "      <th>Daily Summary</th>\n",
              "    </tr>\n",
              "  </thead>\n",
              "  <tbody>\n",
              "    <tr>\n",
              "      <th>0</th>\n",
              "      <td>2015-11-09 20:00:00.000 +0100</td>\n",
              "      <td>Mostly Cloudy</td>\n",
              "      <td>rain</td>\n",
              "      <td>14.811111</td>\n",
              "      <td>14.811111</td>\n",
              "      <td>0.79</td>\n",
              "      <td>20.7851</td>\n",
              "      <td>300</td>\n",
              "      <td>8.1305</td>\n",
              "      <td>1022.57</td>\n",
              "      <td>Foggy until morning.</td>\n",
              "    </tr>\n",
              "    <tr>\n",
              "      <th>1</th>\n",
              "      <td>2015-11-09 21:00:00.000 +0100</td>\n",
              "      <td>Mostly Cloudy</td>\n",
              "      <td>rain</td>\n",
              "      <td>15.188889</td>\n",
              "      <td>15.188889</td>\n",
              "      <td>0.73</td>\n",
              "      <td>20.7690</td>\n",
              "      <td>310</td>\n",
              "      <td>11.9784</td>\n",
              "      <td>1023.05</td>\n",
              "      <td>Foggy until morning.</td>\n",
              "    </tr>\n",
              "    <tr>\n",
              "      <th>2</th>\n",
              "      <td>2015-11-09 22:00:00.000 +0100</td>\n",
              "      <td>Mostly Cloudy</td>\n",
              "      <td>rain</td>\n",
              "      <td>14.494444</td>\n",
              "      <td>14.494444</td>\n",
              "      <td>0.78</td>\n",
              "      <td>15.6009</td>\n",
              "      <td>307</td>\n",
              "      <td>11.6886</td>\n",
              "      <td>1023.30</td>\n",
              "      <td>Foggy until morning.</td>\n",
              "    </tr>\n",
              "    <tr>\n",
              "      <th>3</th>\n",
              "      <td>2015-11-09 23:00:00.000 +0100</td>\n",
              "      <td>Mostly Cloudy</td>\n",
              "      <td>rain</td>\n",
              "      <td>13.750000</td>\n",
              "      <td>13.750000</td>\n",
              "      <td>0.81</td>\n",
              "      <td>11.5115</td>\n",
              "      <td>299</td>\n",
              "      <td>12.2199</td>\n",
              "      <td>1023.13</td>\n",
              "      <td>Foggy until morning.</td>\n",
              "    </tr>\n",
              "    <tr>\n",
              "      <th>4</th>\n",
              "      <td>2015-10-01 00:00:00.000 +0200</td>\n",
              "      <td>Mostly Cloudy</td>\n",
              "      <td>rain</td>\n",
              "      <td>8.894444</td>\n",
              "      <td>6.327778</td>\n",
              "      <td>0.74</td>\n",
              "      <td>16.9533</td>\n",
              "      <td>21</td>\n",
              "      <td>16.1000</td>\n",
              "      <td>1030.56</td>\n",
              "      <td>Partly cloudy throughout the day.</td>\n",
              "    </tr>\n",
              "    <tr>\n",
              "      <th>...</th>\n",
              "      <td>...</td>\n",
              "      <td>...</td>\n",
              "      <td>...</td>\n",
              "      <td>...</td>\n",
              "      <td>...</td>\n",
              "      <td>...</td>\n",
              "      <td>...</td>\n",
              "      <td>...</td>\n",
              "      <td>...</td>\n",
              "      <td>...</td>\n",
              "      <td>...</td>\n",
              "    </tr>\n",
              "    <tr>\n",
              "      <th>10248</th>\n",
              "      <td>2016-09-09 19:00:00.000 +0200</td>\n",
              "      <td>Partly Cloudy</td>\n",
              "      <td>rain</td>\n",
              "      <td>26.016667</td>\n",
              "      <td>26.016667</td>\n",
              "      <td>0.43</td>\n",
              "      <td>10.9963</td>\n",
              "      <td>31</td>\n",
              "      <td>16.1000</td>\n",
              "      <td>1014.36</td>\n",
              "      <td>Partly cloudy starting in the morning.</td>\n",
              "    </tr>\n",
              "    <tr>\n",
              "      <th>10249</th>\n",
              "      <td>2016-09-09 20:00:00.000 +0200</td>\n",
              "      <td>Partly Cloudy</td>\n",
              "      <td>rain</td>\n",
              "      <td>24.583333</td>\n",
              "      <td>24.583333</td>\n",
              "      <td>0.48</td>\n",
              "      <td>10.0947</td>\n",
              "      <td>20</td>\n",
              "      <td>15.5526</td>\n",
              "      <td>1015.16</td>\n",
              "      <td>Partly cloudy starting in the morning.</td>\n",
              "    </tr>\n",
              "    <tr>\n",
              "      <th>10250</th>\n",
              "      <td>2016-09-09 21:00:00.000 +0200</td>\n",
              "      <td>Partly Cloudy</td>\n",
              "      <td>rain</td>\n",
              "      <td>22.038889</td>\n",
              "      <td>22.038889</td>\n",
              "      <td>0.56</td>\n",
              "      <td>8.9838</td>\n",
              "      <td>30</td>\n",
              "      <td>16.1000</td>\n",
              "      <td>1015.66</td>\n",
              "      <td>Partly cloudy starting in the morning.</td>\n",
              "    </tr>\n",
              "    <tr>\n",
              "      <th>10251</th>\n",
              "      <td>2016-09-09 22:00:00.000 +0200</td>\n",
              "      <td>Partly Cloudy</td>\n",
              "      <td>rain</td>\n",
              "      <td>21.522222</td>\n",
              "      <td>21.522222</td>\n",
              "      <td>0.60</td>\n",
              "      <td>10.5294</td>\n",
              "      <td>20</td>\n",
              "      <td>16.1000</td>\n",
              "      <td>1015.95</td>\n",
              "      <td>Partly cloudy starting in the morning.</td>\n",
              "    </tr>\n",
              "    <tr>\n",
              "      <th>10252</th>\n",
              "      <td>2016-09-09 23:00:00.000 +0200</td>\n",
              "      <td>Partly Cloudy</td>\n",
              "      <td>rain</td>\n",
              "      <td>20.438889</td>\n",
              "      <td>20.438889</td>\n",
              "      <td>0.61</td>\n",
              "      <td>5.8765</td>\n",
              "      <td>39</td>\n",
              "      <td>15.5204</td>\n",
              "      <td>1016.16</td>\n",
              "      <td>Partly cloudy starting in the morning.</td>\n",
              "    </tr>\n",
              "  </tbody>\n",
              "</table>\n",
              "<p>9879 rows × 11 columns</p>\n",
              "</div>"
            ],
            "text/plain": [
              "                      Formatted_Date        Summary Precip_Type  \\\n",
              "0      2015-11-09 20:00:00.000 +0100  Mostly Cloudy        rain   \n",
              "1      2015-11-09 21:00:00.000 +0100  Mostly Cloudy        rain   \n",
              "2      2015-11-09 22:00:00.000 +0100  Mostly Cloudy        rain   \n",
              "3      2015-11-09 23:00:00.000 +0100  Mostly Cloudy        rain   \n",
              "4      2015-10-01 00:00:00.000 +0200  Mostly Cloudy        rain   \n",
              "...                              ...            ...         ...   \n",
              "10248  2016-09-09 19:00:00.000 +0200  Partly Cloudy        rain   \n",
              "10249  2016-09-09 20:00:00.000 +0200  Partly Cloudy        rain   \n",
              "10250  2016-09-09 21:00:00.000 +0200  Partly Cloudy        rain   \n",
              "10251  2016-09-09 22:00:00.000 +0200  Partly Cloudy        rain   \n",
              "10252  2016-09-09 23:00:00.000 +0200  Partly Cloudy        rain   \n",
              "\n",
              "       Temperature (C)  Apparent_Temperature_C  Humidity  Wind Speed (km/h)  \\\n",
              "0            14.811111               14.811111      0.79            20.7851   \n",
              "1            15.188889               15.188889      0.73            20.7690   \n",
              "2            14.494444               14.494444      0.78            15.6009   \n",
              "3            13.750000               13.750000      0.81            11.5115   \n",
              "4             8.894444                6.327778      0.74            16.9533   \n",
              "...                ...                     ...       ...                ...   \n",
              "10248        26.016667               26.016667      0.43            10.9963   \n",
              "10249        24.583333               24.583333      0.48            10.0947   \n",
              "10250        22.038889               22.038889      0.56             8.9838   \n",
              "10251        21.522222               21.522222      0.60            10.5294   \n",
              "10252        20.438889               20.438889      0.61             5.8765   \n",
              "\n",
              "       Wind Bearing (degrees)  Visibility (km)  Pressure (millibars)  \\\n",
              "0                         300           8.1305               1022.57   \n",
              "1                         310          11.9784               1023.05   \n",
              "2                         307          11.6886               1023.30   \n",
              "3                         299          12.2199               1023.13   \n",
              "4                          21          16.1000               1030.56   \n",
              "...                       ...              ...                   ...   \n",
              "10248                      31          16.1000               1014.36   \n",
              "10249                      20          15.5526               1015.16   \n",
              "10250                      30          16.1000               1015.66   \n",
              "10251                      20          16.1000               1015.95   \n",
              "10252                      39          15.5204               1016.16   \n",
              "\n",
              "                                Daily Summary  \n",
              "0                        Foggy until morning.  \n",
              "1                        Foggy until morning.  \n",
              "2                        Foggy until morning.  \n",
              "3                        Foggy until morning.  \n",
              "4           Partly cloudy throughout the day.  \n",
              "...                                       ...  \n",
              "10248  Partly cloudy starting in the morning.  \n",
              "10249  Partly cloudy starting in the morning.  \n",
              "10250  Partly cloudy starting in the morning.  \n",
              "10251  Partly cloudy starting in the morning.  \n",
              "10252  Partly cloudy starting in the morning.  \n",
              "\n",
              "[9879 rows x 11 columns]"
            ]
          },
          "execution_count": 12,
          "metadata": {},
          "output_type": "execute_result"
        }
      ],
      "source": [
        "# from sklearn.impute import SimpleImputer\n",
        "# column_name = 'Precip Type'\n",
        "# imputer = SimpleImputer(strategy='most_frequent')\n",
        "# # Fit and transform the column with missing values\n",
        "# df[column_name] = imputer.fit_transform(df[[column_name]])\n",
        "\n",
        "df.dropna()"
      ]
    },
    {
      "cell_type": "code",
      "execution_count": 13,
      "metadata": {
        "colab": {
          "base_uri": "https://localhost:8080/"
        },
        "id": "RoPR5hSMz24k",
        "outputId": "43c91f36-3aba-4ff0-e24f-9d2d88654d47"
      },
      "outputs": [
        {
          "data": {
            "text/plain": [
              "Formatted_Date              0\n",
              "Summary                     0\n",
              "Precip_Type               374\n",
              "Temperature (C)             0\n",
              "Apparent_Temperature_C      0\n",
              "Humidity                    0\n",
              "Wind Speed (km/h)           0\n",
              "Wind Bearing (degrees)      0\n",
              "Visibility (km)             0\n",
              "Pressure (millibars)        0\n",
              "Daily Summary               0\n",
              "dtype: int64"
            ]
          },
          "execution_count": 13,
          "metadata": {},
          "output_type": "execute_result"
        }
      ],
      "source": [
        "df.isna().sum()"
      ]
    },
    {
      "cell_type": "code",
      "execution_count": 14,
      "metadata": {
        "colab": {
          "base_uri": "https://localhost:8080/"
        },
        "id": "_ZdCBg9S0iZ0",
        "outputId": "48f49f92-cc38-423e-8942-f4bb5edb2b4f"
      },
      "outputs": [
        {
          "data": {
            "text/plain": [
              "(10253, 11)"
            ]
          },
          "execution_count": 14,
          "metadata": {},
          "output_type": "execute_result"
        }
      ],
      "source": [
        "df.shape"
      ]
    },
    {
      "cell_type": "code",
      "execution_count": 15,
      "metadata": {
        "id": "QKw3lo510Yey"
      },
      "outputs": [],
      "source": [
        "# categorical_columns = ['Summary', 'Precip_Type', 'Daily Summary']\n",
        "\n",
        "# # Use get_dummies to one-hot encode the categorical columns\n",
        "# df = pd.get_dummies(df, columns=categorical_columns)\n",
        "\n",
        "# # If you want to drop the original categorical columns after one-hot encoding\n",
        "# df = df.drop(categorical_columns, axis=1)\n",
        "\n",
        "# # Display the updated DataFrame\n",
        "# print(df.head())"
      ]
    },
    {
      "cell_type": "code",
      "execution_count": 16,
      "metadata": {
        "colab": {
          "base_uri": "https://localhost:8080/"
        },
        "id": "tJuM7lT205Yd",
        "outputId": "d70f56df-c240-40d5-f63e-d7f10d905299"
      },
      "outputs": [],
      "source": [
        "# df = df.drop_duplicates()\n",
        "\n",
        "# # If you want to reset the index after dropping duplicates\n",
        "# df = df.reset_index(drop=True)\n",
        "\n",
        "# # Display the updated DataFrame\n",
        "# print(df.head())"
      ]
    },
    {
      "cell_type": "markdown",
      "metadata": {
        "id": "3vdNjUyc2nv1"
      },
      "source": [
        "# **Standardization**"
      ]
    },
    {
      "cell_type": "code",
      "execution_count": 17,
      "metadata": {
        "id": "Trh6uaiK2nCs"
      },
      "outputs": [],
      "source": [
        "# from sklearn.preprocessing import StandardScaler\n",
        "# import pandas as pd\n",
        "\n",
        "# # Assuming your DataFrame is named df and you want to standardize specific columns\n",
        "# columns_to_standardize = ['Temperature (C)', 'Apparent_Temperature_C',\n",
        "#                           'Humidity', 'Wind Speed (km/h)', 'Wind Bearing (degrees)',\n",
        "#                           'Visibility (km)', 'Pressure (millibars)']\n",
        "\n",
        "# # Create a StandardScaler instance\n",
        "# scaler = StandardScaler()\n",
        "\n",
        "# # Fit and transform the specified columns\n",
        "# df[columns_to_standardize] = scaler.fit_transform(df[columns_to_standardize])\n",
        "\n",
        "# # Display the updated DataFrame\n",
        "# print(df.head())\n"
      ]
    },
    {
      "cell_type": "markdown",
      "metadata": {
        "id": "PZeBdccJrQ1u"
      },
      "source": [
        "# **Normalization**"
      ]
    },
    {
      "cell_type": "code",
      "execution_count": 18,
      "metadata": {
        "id": "JbSdDGMH3Kll"
      },
      "outputs": [],
      "source": [
        "# from sklearn.preprocessing import MinMaxScaler\n",
        "# import pandas as pd\n",
        "\n",
        "# # Assuming your DataFrame is named df and you want to normalize specific columns\n",
        "# columns_to_normalize = ['Temperature (C)', 'Apparent_Temperature_C', 'Humidity',\n",
        "#                         'Wind Speed (km/h)', 'Wind Bearing (degrees)', 'Visibility (km)',\n",
        "#                         'Pressure (millibars)']\n",
        "\n",
        "# # Create a MinMaxScaler instance\n",
        "# scaler = MinMaxScaler()\n",
        "\n",
        "# # Fit and transform the specified columns\n",
        "# df[columns_to_normalize] = scaler.fit_transform(df[columns_to_normalize])"
      ]
    },
    {
      "cell_type": "code",
      "execution_count": 19,
      "metadata": {
        "colab": {
          "base_uri": "https://localhost:8080/",
          "height": 806
        },
        "id": "M4d6X2613PYS",
        "outputId": "d8d61201-fc03-411f-9963-bf6b55885ba1"
      },
      "outputs": [
        {
          "data": {
            "text/html": [
              "<div>\n",
              "<style scoped>\n",
              "    .dataframe tbody tr th:only-of-type {\n",
              "        vertical-align: middle;\n",
              "    }\n",
              "\n",
              "    .dataframe tbody tr th {\n",
              "        vertical-align: top;\n",
              "    }\n",
              "\n",
              "    .dataframe thead th {\n",
              "        text-align: right;\n",
              "    }\n",
              "</style>\n",
              "<table border=\"1\" class=\"dataframe\">\n",
              "  <thead>\n",
              "    <tr style=\"text-align: right;\">\n",
              "      <th></th>\n",
              "      <th>Formatted_Date</th>\n",
              "      <th>Summary</th>\n",
              "      <th>Precip_Type</th>\n",
              "      <th>Temperature (C)</th>\n",
              "      <th>Apparent_Temperature_C</th>\n",
              "      <th>Humidity</th>\n",
              "      <th>Wind Speed (km/h)</th>\n",
              "      <th>Wind Bearing (degrees)</th>\n",
              "      <th>Visibility (km)</th>\n",
              "      <th>Pressure (millibars)</th>\n",
              "      <th>Daily Summary</th>\n",
              "    </tr>\n",
              "  </thead>\n",
              "  <tbody>\n",
              "    <tr>\n",
              "      <th>0</th>\n",
              "      <td>2015-11-09 20:00:00.000 +0100</td>\n",
              "      <td>Mostly Cloudy</td>\n",
              "      <td>rain</td>\n",
              "      <td>14.811111</td>\n",
              "      <td>14.811111</td>\n",
              "      <td>0.79</td>\n",
              "      <td>20.7851</td>\n",
              "      <td>300</td>\n",
              "      <td>8.1305</td>\n",
              "      <td>1022.57</td>\n",
              "      <td>Foggy until morning.</td>\n",
              "    </tr>\n",
              "    <tr>\n",
              "      <th>1</th>\n",
              "      <td>2015-11-09 21:00:00.000 +0100</td>\n",
              "      <td>Mostly Cloudy</td>\n",
              "      <td>rain</td>\n",
              "      <td>15.188889</td>\n",
              "      <td>15.188889</td>\n",
              "      <td>0.73</td>\n",
              "      <td>20.7690</td>\n",
              "      <td>310</td>\n",
              "      <td>11.9784</td>\n",
              "      <td>1023.05</td>\n",
              "      <td>Foggy until morning.</td>\n",
              "    </tr>\n",
              "    <tr>\n",
              "      <th>2</th>\n",
              "      <td>2015-11-09 22:00:00.000 +0100</td>\n",
              "      <td>Mostly Cloudy</td>\n",
              "      <td>rain</td>\n",
              "      <td>14.494444</td>\n",
              "      <td>14.494444</td>\n",
              "      <td>0.78</td>\n",
              "      <td>15.6009</td>\n",
              "      <td>307</td>\n",
              "      <td>11.6886</td>\n",
              "      <td>1023.30</td>\n",
              "      <td>Foggy until morning.</td>\n",
              "    </tr>\n",
              "    <tr>\n",
              "      <th>3</th>\n",
              "      <td>2015-11-09 23:00:00.000 +0100</td>\n",
              "      <td>Mostly Cloudy</td>\n",
              "      <td>rain</td>\n",
              "      <td>13.750000</td>\n",
              "      <td>13.750000</td>\n",
              "      <td>0.81</td>\n",
              "      <td>11.5115</td>\n",
              "      <td>299</td>\n",
              "      <td>12.2199</td>\n",
              "      <td>1023.13</td>\n",
              "      <td>Foggy until morning.</td>\n",
              "    </tr>\n",
              "    <tr>\n",
              "      <th>4</th>\n",
              "      <td>2015-10-01 00:00:00.000 +0200</td>\n",
              "      <td>Mostly Cloudy</td>\n",
              "      <td>rain</td>\n",
              "      <td>8.894444</td>\n",
              "      <td>6.327778</td>\n",
              "      <td>0.74</td>\n",
              "      <td>16.9533</td>\n",
              "      <td>21</td>\n",
              "      <td>16.1000</td>\n",
              "      <td>1030.56</td>\n",
              "      <td>Partly cloudy throughout the day.</td>\n",
              "    </tr>\n",
              "    <tr>\n",
              "      <th>...</th>\n",
              "      <td>...</td>\n",
              "      <td>...</td>\n",
              "      <td>...</td>\n",
              "      <td>...</td>\n",
              "      <td>...</td>\n",
              "      <td>...</td>\n",
              "      <td>...</td>\n",
              "      <td>...</td>\n",
              "      <td>...</td>\n",
              "      <td>...</td>\n",
              "      <td>...</td>\n",
              "    </tr>\n",
              "    <tr>\n",
              "      <th>10248</th>\n",
              "      <td>2016-09-09 19:00:00.000 +0200</td>\n",
              "      <td>Partly Cloudy</td>\n",
              "      <td>rain</td>\n",
              "      <td>26.016667</td>\n",
              "      <td>26.016667</td>\n",
              "      <td>0.43</td>\n",
              "      <td>10.9963</td>\n",
              "      <td>31</td>\n",
              "      <td>16.1000</td>\n",
              "      <td>1014.36</td>\n",
              "      <td>Partly cloudy starting in the morning.</td>\n",
              "    </tr>\n",
              "    <tr>\n",
              "      <th>10249</th>\n",
              "      <td>2016-09-09 20:00:00.000 +0200</td>\n",
              "      <td>Partly Cloudy</td>\n",
              "      <td>rain</td>\n",
              "      <td>24.583333</td>\n",
              "      <td>24.583333</td>\n",
              "      <td>0.48</td>\n",
              "      <td>10.0947</td>\n",
              "      <td>20</td>\n",
              "      <td>15.5526</td>\n",
              "      <td>1015.16</td>\n",
              "      <td>Partly cloudy starting in the morning.</td>\n",
              "    </tr>\n",
              "    <tr>\n",
              "      <th>10250</th>\n",
              "      <td>2016-09-09 21:00:00.000 +0200</td>\n",
              "      <td>Partly Cloudy</td>\n",
              "      <td>rain</td>\n",
              "      <td>22.038889</td>\n",
              "      <td>22.038889</td>\n",
              "      <td>0.56</td>\n",
              "      <td>8.9838</td>\n",
              "      <td>30</td>\n",
              "      <td>16.1000</td>\n",
              "      <td>1015.66</td>\n",
              "      <td>Partly cloudy starting in the morning.</td>\n",
              "    </tr>\n",
              "    <tr>\n",
              "      <th>10251</th>\n",
              "      <td>2016-09-09 22:00:00.000 +0200</td>\n",
              "      <td>Partly Cloudy</td>\n",
              "      <td>rain</td>\n",
              "      <td>21.522222</td>\n",
              "      <td>21.522222</td>\n",
              "      <td>0.60</td>\n",
              "      <td>10.5294</td>\n",
              "      <td>20</td>\n",
              "      <td>16.1000</td>\n",
              "      <td>1015.95</td>\n",
              "      <td>Partly cloudy starting in the morning.</td>\n",
              "    </tr>\n",
              "    <tr>\n",
              "      <th>10252</th>\n",
              "      <td>2016-09-09 23:00:00.000 +0200</td>\n",
              "      <td>Partly Cloudy</td>\n",
              "      <td>rain</td>\n",
              "      <td>20.438889</td>\n",
              "      <td>20.438889</td>\n",
              "      <td>0.61</td>\n",
              "      <td>5.8765</td>\n",
              "      <td>39</td>\n",
              "      <td>15.5204</td>\n",
              "      <td>1016.16</td>\n",
              "      <td>Partly cloudy starting in the morning.</td>\n",
              "    </tr>\n",
              "  </tbody>\n",
              "</table>\n",
              "<p>10253 rows × 11 columns</p>\n",
              "</div>"
            ],
            "text/plain": [
              "                      Formatted_Date        Summary Precip_Type  \\\n",
              "0      2015-11-09 20:00:00.000 +0100  Mostly Cloudy        rain   \n",
              "1      2015-11-09 21:00:00.000 +0100  Mostly Cloudy        rain   \n",
              "2      2015-11-09 22:00:00.000 +0100  Mostly Cloudy        rain   \n",
              "3      2015-11-09 23:00:00.000 +0100  Mostly Cloudy        rain   \n",
              "4      2015-10-01 00:00:00.000 +0200  Mostly Cloudy        rain   \n",
              "...                              ...            ...         ...   \n",
              "10248  2016-09-09 19:00:00.000 +0200  Partly Cloudy        rain   \n",
              "10249  2016-09-09 20:00:00.000 +0200  Partly Cloudy        rain   \n",
              "10250  2016-09-09 21:00:00.000 +0200  Partly Cloudy        rain   \n",
              "10251  2016-09-09 22:00:00.000 +0200  Partly Cloudy        rain   \n",
              "10252  2016-09-09 23:00:00.000 +0200  Partly Cloudy        rain   \n",
              "\n",
              "       Temperature (C)  Apparent_Temperature_C  Humidity  Wind Speed (km/h)  \\\n",
              "0            14.811111               14.811111      0.79            20.7851   \n",
              "1            15.188889               15.188889      0.73            20.7690   \n",
              "2            14.494444               14.494444      0.78            15.6009   \n",
              "3            13.750000               13.750000      0.81            11.5115   \n",
              "4             8.894444                6.327778      0.74            16.9533   \n",
              "...                ...                     ...       ...                ...   \n",
              "10248        26.016667               26.016667      0.43            10.9963   \n",
              "10249        24.583333               24.583333      0.48            10.0947   \n",
              "10250        22.038889               22.038889      0.56             8.9838   \n",
              "10251        21.522222               21.522222      0.60            10.5294   \n",
              "10252        20.438889               20.438889      0.61             5.8765   \n",
              "\n",
              "       Wind Bearing (degrees)  Visibility (km)  Pressure (millibars)  \\\n",
              "0                         300           8.1305               1022.57   \n",
              "1                         310          11.9784               1023.05   \n",
              "2                         307          11.6886               1023.30   \n",
              "3                         299          12.2199               1023.13   \n",
              "4                          21          16.1000               1030.56   \n",
              "...                       ...              ...                   ...   \n",
              "10248                      31          16.1000               1014.36   \n",
              "10249                      20          15.5526               1015.16   \n",
              "10250                      30          16.1000               1015.66   \n",
              "10251                      20          16.1000               1015.95   \n",
              "10252                      39          15.5204               1016.16   \n",
              "\n",
              "                                Daily Summary  \n",
              "0                        Foggy until morning.  \n",
              "1                        Foggy until morning.  \n",
              "2                        Foggy until morning.  \n",
              "3                        Foggy until morning.  \n",
              "4           Partly cloudy throughout the day.  \n",
              "...                                       ...  \n",
              "10248  Partly cloudy starting in the morning.  \n",
              "10249  Partly cloudy starting in the morning.  \n",
              "10250  Partly cloudy starting in the morning.  \n",
              "10251  Partly cloudy starting in the morning.  \n",
              "10252  Partly cloudy starting in the morning.  \n",
              "\n",
              "[10253 rows x 11 columns]"
            ]
          },
          "execution_count": 19,
          "metadata": {},
          "output_type": "execute_result"
        }
      ],
      "source": [
        "df"
      ]
    },
    {
      "cell_type": "code",
      "execution_count": 20,
      "metadata": {
        "id": "_XHDx4bt3a3t"
      },
      "outputs": [],
      "source": [
        "# url = 'https://drive.google.com/file/d/1XfgRAjrM5TaY4-9zUF7gSLG9Mo_osG0x/view?usp=sharing'\n",
        "# data = pd.read_csv(url)"
      ]
    },
    {
      "cell_type": "code",
      "execution_count": 21,
      "metadata": {
        "id": "MTfXkJ8u-Sk9"
      },
      "outputs": [],
      "source": [
        "# pd.crosstab(index=df['Humidity'] , columns = df[''] , margins = True)"
      ]
    },
    {
      "cell_type": "markdown",
      "metadata": {
        "id": "U22BeJfvQMyD"
      },
      "source": [
        "# **EXPERIMENT 2**"
      ]
    },
    {
      "cell_type": "code",
      "execution_count": 22,
      "metadata": {
        "id": "HMx3ufLLQVxC"
      },
      "outputs": [],
      "source": [
        "df = pd.DataFrame(df)"
      ]
    },
    {
      "cell_type": "code",
      "execution_count": 23,
      "metadata": {
        "colab": {
          "base_uri": "https://localhost:8080/",
          "height": 467
        },
        "id": "yhxGFtXDS24P",
        "outputId": "89892aa5-8497-4d82-e2db-7aa8c423f513"
      },
      "outputs": [
        {
          "data": {
            "text/plain": [
              "<BarContainer object of 100 artists>"
            ]
          },
          "execution_count": 23,
          "metadata": {},
          "output_type": "execute_result"
        },
        {
          "data": {
            "image/png": "[encoded data removed]",
            "text/plain": [
              "<Figure size 1000x500 with 1 Axes>"
            ]
          },
          "metadata": {},
          "output_type": "display_data"
        }
      ],
      "source": [
        "# Bar Graph\n",
        "y = df['Temperature (C)']\n",
        "x = df['Summary']\n",
        "plt.figure(figsize = (10, 5))\n",
        "plt.bar(x[0:100],y[0:100])\n"
      ]
    },
    {
      "cell_type": "code",
      "execution_count": 24,
      "metadata": {
        "colab": {
          "base_uri": "https://localhost:8080/",
          "height": 204
        },
        "id": "5szVd6SRWiht",
        "outputId": "31279b19-ae2d-48b8-c2ba-54f7a10dfccc"
      },
      "outputs": [
        {
          "data": {
            "text/html": [
              "<div>\n",
              "<style scoped>\n",
              "    .dataframe tbody tr th:only-of-type {\n",
              "        vertical-align: middle;\n",
              "    }\n",
              "\n",
              "    .dataframe tbody tr th {\n",
              "        vertical-align: top;\n",
              "    }\n",
              "\n",
              "    .dataframe thead th {\n",
              "        text-align: right;\n",
              "    }\n",
              "</style>\n",
              "<table border=\"1\" class=\"dataframe\">\n",
              "  <thead>\n",
              "    <tr style=\"text-align: right;\">\n",
              "      <th>Humidity</th>\n",
              "      <th>0.23</th>\n",
              "      <th>0.24</th>\n",
              "      <th>0.25</th>\n",
              "      <th>0.26</th>\n",
              "      <th>0.27</th>\n",
              "      <th>0.28</th>\n",
              "      <th>0.29</th>\n",
              "      <th>0.3</th>\n",
              "      <th>0.31</th>\n",
              "      <th>0.32</th>\n",
              "      <th>...</th>\n",
              "      <th>0.92</th>\n",
              "      <th>0.93</th>\n",
              "      <th>0.94</th>\n",
              "      <th>0.95</th>\n",
              "      <th>0.96</th>\n",
              "      <th>0.97</th>\n",
              "      <th>0.98</th>\n",
              "      <th>0.99</th>\n",
              "      <th>1.0</th>\n",
              "      <th>All</th>\n",
              "    </tr>\n",
              "    <tr>\n",
              "      <th>Precip_Type</th>\n",
              "      <th></th>\n",
              "      <th></th>\n",
              "      <th></th>\n",
              "      <th></th>\n",
              "      <th></th>\n",
              "      <th></th>\n",
              "      <th></th>\n",
              "      <th></th>\n",
              "      <th></th>\n",
              "      <th></th>\n",
              "      <th></th>\n",
              "      <th></th>\n",
              "      <th></th>\n",
              "      <th></th>\n",
              "      <th></th>\n",
              "      <th></th>\n",
              "      <th></th>\n",
              "      <th></th>\n",
              "      <th></th>\n",
              "      <th></th>\n",
              "      <th></th>\n",
              "    </tr>\n",
              "  </thead>\n",
              "  <tbody>\n",
              "    <tr>\n",
              "      <th>rain</th>\n",
              "      <td>1</td>\n",
              "      <td>5</td>\n",
              "      <td>2</td>\n",
              "      <td>6</td>\n",
              "      <td>11</td>\n",
              "      <td>23</td>\n",
              "      <td>20</td>\n",
              "      <td>33</td>\n",
              "      <td>37</td>\n",
              "      <td>50</td>\n",
              "      <td>...</td>\n",
              "      <td>235</td>\n",
              "      <td>550</td>\n",
              "      <td>146</td>\n",
              "      <td>130</td>\n",
              "      <td>357</td>\n",
              "      <td>78</td>\n",
              "      <td>28</td>\n",
              "      <td>159</td>\n",
              "      <td>326</td>\n",
              "      <td>9184</td>\n",
              "    </tr>\n",
              "    <tr>\n",
              "      <th>snow</th>\n",
              "      <td>0</td>\n",
              "      <td>0</td>\n",
              "      <td>0</td>\n",
              "      <td>0</td>\n",
              "      <td>0</td>\n",
              "      <td>0</td>\n",
              "      <td>0</td>\n",
              "      <td>0</td>\n",
              "      <td>0</td>\n",
              "      <td>0</td>\n",
              "      <td>...</td>\n",
              "      <td>72</td>\n",
              "      <td>63</td>\n",
              "      <td>42</td>\n",
              "      <td>68</td>\n",
              "      <td>71</td>\n",
              "      <td>6</td>\n",
              "      <td>2</td>\n",
              "      <td>13</td>\n",
              "      <td>57</td>\n",
              "      <td>695</td>\n",
              "    </tr>\n",
              "    <tr>\n",
              "      <th>All</th>\n",
              "      <td>1</td>\n",
              "      <td>5</td>\n",
              "      <td>2</td>\n",
              "      <td>6</td>\n",
              "      <td>11</td>\n",
              "      <td>23</td>\n",
              "      <td>20</td>\n",
              "      <td>33</td>\n",
              "      <td>37</td>\n",
              "      <td>50</td>\n",
              "      <td>...</td>\n",
              "      <td>307</td>\n",
              "      <td>613</td>\n",
              "      <td>188</td>\n",
              "      <td>198</td>\n",
              "      <td>428</td>\n",
              "      <td>84</td>\n",
              "      <td>30</td>\n",
              "      <td>172</td>\n",
              "      <td>383</td>\n",
              "      <td>9879</td>\n",
              "    </tr>\n",
              "  </tbody>\n",
              "</table>\n",
              "<p>3 rows × 79 columns</p>\n",
              "</div>"
            ],
            "text/plain": [
              "Humidity     0.23  0.24  0.25  0.26  0.27  0.28  0.29  0.3  0.31  0.32  ...  \\\n",
              "Precip_Type                                                             ...   \n",
              "rain            1     5     2     6    11    23    20   33    37    50  ...   \n",
              "snow            0     0     0     0     0     0     0    0     0     0  ...   \n",
              "All             1     5     2     6    11    23    20   33    37    50  ...   \n",
              "\n",
              "Humidity     0.92  0.93  0.94  0.95  0.96  0.97  0.98  0.99  1.0   All  \n",
              "Precip_Type                                                             \n",
              "rain          235   550   146   130   357    78    28   159  326  9184  \n",
              "snow           72    63    42    68    71     6     2    13   57   695  \n",
              "All           307   613   188   198   428    84    30   172  383  9879  \n",
              "\n",
              "[3 rows x 79 columns]"
            ]
          },
          "execution_count": 24,
          "metadata": {},
          "output_type": "execute_result"
        }
      ],
      "source": [
        "# Contingency Table\n",
        "pd.crosstab(index=df['Precip_Type'] , columns = df['Humidity'] , margins = True)"
      ]
    },
    {
      "cell_type": "code",
      "execution_count": 25,
      "metadata": {
        "colab": {
          "base_uri": "https://localhost:8080/",
          "height": 621
        },
        "id": "MlMOE7UHYwlj",
        "outputId": "247c007f-b4f8-4ea8-901a-a7f7f4c40f72"
      },
      "outputs": [],
      "source": [
        "# Scatter Plot\n",
        "# plt.scatter(df['Precip_Type'],df['Summary'] )"
      ]
    },
    {
      "cell_type": "code",
      "execution_count": 26,
      "metadata": {
        "colab": {
          "base_uri": "https://localhost:8080/",
          "height": 593
        },
        "id": "1Sv8rAGvTulG",
        "outputId": "125e1cc7-cc29-4e69-e887-1976846a659a"
      },
      "outputs": [
        {
          "data": {
            "text/plain": [
              "<Axes: ylabel='Temperature (C)'>"
            ]
          },
          "execution_count": 26,
          "metadata": {},
          "output_type": "execute_result"
        },
        {
          "data": {
            "image/png": "[encoded data removed]",
            "text/plain": [
              "<Figure size 640x480 with 1 Axes>"
            ]
          },
          "metadata": {},
          "output_type": "display_data"
        }
      ],
      "source": [
        "# BoxPlot\n",
        "sns.boxplot(y)"
      ]
    },
    {
      "cell_type": "code",
      "execution_count": 27,
      "metadata": {
        "colab": {
          "base_uri": "https://localhost:8080/",
          "height": 644
        },
        "id": "4A5LgG7bo1bO",
        "outputId": "0e9ca8e3-d453-4e63-a21b-4fd4a75a5e1f"
      },
      "outputs": [
        {
          "data": {
            "text/plain": [
              "<Axes: xlabel='Humidity', ylabel='Precip_Type'>"
            ]
          },
          "execution_count": 27,
          "metadata": {},
          "output_type": "execute_result"
        },
        {
          "data": {
            "image/png": "[encoded data removed]",
            "text/plain": [
              "<Figure size 640x480 with 1 Axes>"
            ]
          },
          "metadata": {},
          "output_type": "display_data"
        }
      ],
      "source": [
        "sns.boxplot(x = df['Humidity'], y = df['Precip_Type'], data = df)"
      ]
    },
    {
      "cell_type": "code",
      "execution_count": 28,
      "metadata": {
        "colab": {
          "base_uri": "https://localhost:8080/",
          "height": 849
        },
        "id": "ssjImeadraXV",
        "outputId": "f85fcb40-55b0-42a9-883b-1a4d32de115a"
      },
      "outputs": [],
      "source": [
        "# sns.set(rc={'figure.figsize':(10,7)})\n",
        "# sns.heatmap(df.corr(), annot = True, cmap = 'tab20')\n",
        "# plt.show()"
      ]
    },
    {
      "cell_type": "code",
      "execution_count": 29,
      "metadata": {
        "colab": {
          "base_uri": "https://localhost:8080/",
          "height": 644
        },
        "id": "_n-mDbVfxqye",
        "outputId": "69c4a04b-84e2-485e-c247-bb7439da2104"
      },
      "outputs": [
        {
          "data": {
            "text/plain": [
              "<Axes: xlabel='Humidity', ylabel='Count'>"
            ]
          },
          "execution_count": 29,
          "metadata": {},
          "output_type": "execute_result"
        },
        {
          "data": {
            "image/png": "[encoded data removed]",
            "text/plain": [
              "<Figure size 640x480 with 1 Axes>"
            ]
          },
          "metadata": {},
          "output_type": "display_data"
        }
      ],
      "source": [
        "sns.histplot(df['Humidity'], kde=True)"
      ]
    },
    {
      "cell_type": "code",
      "execution_count": 30,
      "metadata": {
        "colab": {
          "base_uri": "https://localhost:8080/",
          "height": 1000
        },
        "id": "FGJzHDh-yfUl",
        "outputId": "ba8a4fe6-0111-455d-a4c5-75baf575aaf6"
      },
      "outputs": [
        {
          "data": {
            "image/png": "[encoded data removed]",
            "text/plain": [
              "<Figure size 640x480 with 1 Axes>"
            ]
          },
          "metadata": {},
          "output_type": "display_data"
        },
        {
          "data": {
            "image/png": "[encoded data removed]",
            "text/plain": [
              "<Figure size 640x480 with 1 Axes>"
            ]
          },
          "metadata": {},
          "output_type": "display_data"
        }
      ],
      "source": [
        "def removal_box_plot(df, column, min_threshold, max_threshold):\n",
        "    sns.boxplot(df[column])\n",
        "    plt.title(f'Original Box Plot of {column}')\n",
        "    plt.show()\n",
        "\n",
        "    removed_outliers = df[df[column] >= min_threshold]\n",
        "\n",
        "    sns.boxplot(removed_outliers[column])\n",
        "    plt.title(f'Box Plot without Outliers of {column}')\n",
        "    plt.show()\n",
        "    return removed_outliers\n",
        "\n",
        "\n",
        "min_threshold = 0.3\n",
        "max_threshold = 1\n",
        "no_outliers = removal_box_plot(df, 'Temperature (C)',  min_threshold,  max_threshold)"
      ]
    },
    {
      "cell_type": "markdown",
      "metadata": {
        "id": "0ak3ForXtpuD"
      },
      "source": [
        "# **EXPERIMENT-03**"
      ]
    },
    {
      "cell_type": "code",
      "execution_count": 31,
      "metadata": {
        "id": "FVUKMRFKt1GD"
      },
      "outputs": [],
      "source": [
        "# x_train , x_test = train_test_split(df , test_size = 0.2 , random_state = 42 , shuffle =True)"
      ]
    },
    {
      "cell_type": "code",
      "execution_count": 32,
      "metadata": {
        "id": "-n-JpJAc4ul4"
      },
      "outputs": [],
      "source": [
        "# y_test = x_test['Temperature (C)']\n",
        "# y_train = x_train['Temperature (C)']"
      ]
    },
    {
      "cell_type": "code",
      "execution_count": 33,
      "metadata": {
        "colab": {
          "base_uri": "https://localhost:8080/"
        },
        "id": "iEh8JqNJ6Wm8",
        "outputId": "39c1102b-0b04-44ed-822a-61aa4563d909"
      },
      "outputs": [],
      "source": [
        "# x_train.shape , y_train.shape , x_test.shape , y_test.shape"
      ]
    },
    {
      "cell_type": "code",
      "execution_count": 34,
      "metadata": {
        "colab": {
          "base_uri": "https://localhost:8080/"
        },
        "id": "wR0LwmpW6u9o",
        "outputId": "6f1c3c21-2f6f-47f9-f033-c6ae01c49073"
      },
      "outputs": [],
      "source": [
        "# y_train.value_counts()"
      ]
    },
    {
      "cell_type": "code",
      "execution_count": 35,
      "metadata": {
        "colab": {
          "base_uri": "https://localhost:8080/",
          "height": 644
        },
        "id": "dRsqxzwqwWCT",
        "outputId": "23a3dfb7-bb0d-4d70-9256-5104c918ea47"
      },
      "outputs": [],
      "source": [
        "# sns.histplot(df['Humidity'], kde=True)\n",
        "# sns.histplot(x_train['Humidity'], kde=True)\n",
        "# sns.histplot(x_test['Humidity'], kde=True)\n"
      ]
    },
    {
      "cell_type": "code",
      "execution_count": 36,
      "metadata": {
        "colab": {
          "base_uri": "https://localhost:8080/",
          "height": 501
        },
        "id": "7dKLXuHD1zTp",
        "outputId": "a38b6dd0-b408-45a9-fc3e-9325fce94c68"
      },
      "outputs": [],
      "source": [
        "# import matplotlib.pyplot as plt\n",
        "# import pandas as pd\n",
        "\n",
        "# # Assuming train_df and test_df are your training and testing dataframes\n",
        "# # Plotting example data\n",
        "# train_df = pd.DataFrame({'A': [10, 20, 30, 40, 50], 'B': [5, 15, 25, 35, 45]})\n",
        "# test_df = pd.DataFrame({'A': [15, 25, 35, 45, 55], 'B': [8, 18, 28, 38, 48]})\n",
        "\n",
        "# # Bar plot for each column\n",
        "# plt.figure(figsize=(10, 5))\n",
        "# index = train_df.columns\n",
        "# bar_width = 0.35\n",
        "# opacity = 0.8\n",
        "\n",
        "# train_bars = plt.bar(2*index, train_df.mean(), bar_width, alpha=opacity, color='b', label='Train')\n",
        "# test_bars = plt.bar(index, test_df.mean(), bar_width, alpha=opacity, color='r', label='Test')\n",
        "\n",
        "# plt.xlabel('Columns')\n",
        "# plt.ylabel('Mean Values')\n",
        "# plt.title('Comparison between Train and Test Dataframes')\n",
        "# plt.xticks(index , index)\n",
        "# plt.legend()\n",
        "# plt.tight_layout()\n",
        "# plt.show()"
      ]
    },
    {
      "cell_type": "code",
      "execution_count": 37,
      "metadata": {
        "colab": {
          "base_uri": "https://localhost:8080/",
          "height": 496
        },
        "id": "8wDbSGQn4aQZ",
        "outputId": "9f36a6c2-2005-4877-9e70-fef103a977aa"
      },
      "outputs": [],
      "source": [
        "# import matplotlib.pyplot as plt\n",
        "# train_length = len(x_train)\n",
        "# test_length = len(x_test)\n",
        "# plt.figure(figsize=(8, 5))\n",
        "# plt.bar(['Train', 'Test'], [train_length, test_length], color=['blue', 'red'])\n",
        "# plt.xlabel('Dataframe')\n",
        "# plt.ylabel('Length')\n",
        "# plt.title('Difference of Lengths between Train and Test Dataframes')\n",
        "# plt.show()"
      ]
    },
    {
      "cell_type": "code",
      "execution_count": 38,
      "metadata": {
        "colab": {
          "base_uri": "https://localhost:8080/"
        },
        "id": "XIvo6CN34qdB",
        "outputId": "2c43f9bc-5f7d-407d-e803-1e40951800e3"
      },
      "outputs": [],
      "source": [
        "# print(\"Number of records in Train dataset :\" , x_train.shape[0])\n",
        "# print(\"Number of records in Test dataset :\" , x_test.shape[0])"
      ]
    },
    {
      "cell_type": "code",
      "execution_count": 39,
      "metadata": {
        "colab": {
          "base_uri": "https://localhost:8080/"
        },
        "id": "w0kR1xUv7iL5",
        "outputId": "9018aa03-3c99-4715-c6ed-c1e954f3fa23"
      },
      "outputs": [],
      "source": [
        "# from statsmodels.stats.weightstats import ztest as ztest\n",
        "# ztest(y_train , y_test ,value=0)"
      ]
    },
    {
      "cell_type": "code",
      "execution_count": 40,
      "metadata": {
        "colab": {
          "base_uri": "https://localhost:8080/",
          "height": 81
        },
        "id": "LlctOhAa53Ca",
        "outputId": "c3d09bf9-646a-4375-b752-9b4d6ae13c21"
      },
      "outputs": [],
      "source": [
        "# def results(p):\n",
        "#   if(p['p_value']<0.05):p['hypothesis_accepted']='alternative'\n",
        "#   if(p['p_value']>=0.05):p['hypothesis_accepted']='null'\n",
        "\n",
        "#   df=pd.DataFrame(p,index=[''])\n",
        "#   cols=['value1', 'value2','score','p_value','hypothesis_accepted']\n",
        "#   return df[cols]\n",
        "\n",
        "# p={}\n",
        "# p['value1'],p['value2']=y_train.mean(),y_test.mean()\n",
        "# p['score'],p['p_value']=ztest(y_train,y_test,alternative='two-sided')\n",
        "# results(p)"
      ]
    },
    {
      "cell_type": "code",
      "execution_count": 41,
      "metadata": {
        "colab": {
          "base_uri": "https://localhost:8080/"
        },
        "id": "kxWFyJBRt4F2",
        "outputId": "12c4459c-2f28-4000-d635-c0b61d6d25c0"
      },
      "outputs": [],
      "source": [
        "# import pandas as pd\n",
        "\n",
        "# def results(p):\n",
        "#     print(\"Mean of value1 in Train:\", p['value1'])\n",
        "#     print(\"Mean of value2 in Test:\", p['value2'])\n",
        "#     print(\"Z-score:\", p['score'])\n",
        "#     print(\"P-value:\", p['p_value'])\n",
        "\n",
        "# p = {}\n",
        "# p['value1'], p['value2'] = y_train.mean(), y_test.mean()\n",
        "# p['score'], p['p_value'] = ztest(y_train, y_test, alternative='two-sided')\n",
        "# results(p)\n"
      ]
    },
    {
      "cell_type": "code",
      "execution_count": 42,
      "metadata": {
        "id": "PaFDpRJO8b9p"
      },
      "outputs": [],
      "source": [
        "# from statsmodels.stats.weightstats import ztest\n",
        "\n",
        "# # Assuming df1 and df2 are your two dataframes with the same columns\n",
        "# # For demonstration, let's create sample dataframes\n",
        "# df1 = x_train['Humidity']\n",
        "# df2 = x_test['Humidity']\n",
        "\n",
        "# # Perform two-sample z-test for each column\n",
        "# z_test_results = {}\n",
        "# for column in df1.columns:\n",
        "#   z_statistic, p_value = ztest(df1[column], df2[column])\n",
        "#   z_test_results[column] = {'z_statistic': z_statistic , 'p_value': p_value}\n",
        "# # Display the results\n",
        "# for column, result in z_test_results.items():\n",
        "#   print(f\"Column '{column}'Z-statistic = {result['z_statistic']}, p-value = {result['p_value']}\")"
      ]
    },
    {
      "cell_type": "markdown",
      "metadata": {
        "id": "pkAw4fkgD2bv"
      },
      "source": [
        "# **EXPERIMENT-04**"
      ]
    },
    {
      "cell_type": "markdown",
      "metadata": {
        "id": "v472030sHnRj"
      },
      "source": [
        "## **Pearson Correlation**"
      ]
    },
    {
      "cell_type": "code",
      "execution_count": 43,
      "metadata": {
        "colab": {
          "base_uri": "https://localhost:8080/",
          "height": 358
        },
        "id": "ZZRYDgJsEG-p",
        "outputId": "429fdb48-79a8-4317-85b8-aabf4abccbe7"
      },
      "outputs": [
        {
          "data": {
            "text/html": [
              "<div>\n",
              "<style scoped>\n",
              "    .dataframe tbody tr th:only-of-type {\n",
              "        vertical-align: middle;\n",
              "    }\n",
              "\n",
              "    .dataframe tbody tr th {\n",
              "        vertical-align: top;\n",
              "    }\n",
              "\n",
              "    .dataframe thead th {\n",
              "        text-align: right;\n",
              "    }\n",
              "</style>\n",
              "<table border=\"1\" class=\"dataframe\">\n",
              "  <thead>\n",
              "    <tr style=\"text-align: right;\">\n",
              "      <th></th>\n",
              "      <th>Temperature (C)</th>\n",
              "      <th>Apparent_Temperature_C</th>\n",
              "      <th>Humidity</th>\n",
              "      <th>Wind Speed (km/h)</th>\n",
              "      <th>Wind Bearing (degrees)</th>\n",
              "      <th>Visibility (km)</th>\n",
              "      <th>Pressure (millibars)</th>\n",
              "    </tr>\n",
              "  </thead>\n",
              "  <tbody>\n",
              "    <tr>\n",
              "      <th>Temperature (C)</th>\n",
              "      <td>1.000000</td>\n",
              "      <td>0.994333</td>\n",
              "      <td>-0.657914</td>\n",
              "      <td>-0.006209</td>\n",
              "      <td>0.037990</td>\n",
              "      <td>0.470117</td>\n",
              "      <td>-0.054451</td>\n",
              "    </tr>\n",
              "    <tr>\n",
              "      <th>Apparent_Temperature_C</th>\n",
              "      <td>0.994333</td>\n",
              "      <td>1.000000</td>\n",
              "      <td>-0.631709</td>\n",
              "      <td>-0.049024</td>\n",
              "      <td>0.039402</td>\n",
              "      <td>0.460022</td>\n",
              "      <td>-0.054223</td>\n",
              "    </tr>\n",
              "    <tr>\n",
              "      <th>Humidity</th>\n",
              "      <td>-0.657914</td>\n",
              "      <td>-0.631709</td>\n",
              "      <td>1.000000</td>\n",
              "      <td>-0.195171</td>\n",
              "      <td>0.001123</td>\n",
              "      <td>-0.500741</td>\n",
              "      <td>0.011775</td>\n",
              "    </tr>\n",
              "    <tr>\n",
              "      <th>Wind Speed (km/h)</th>\n",
              "      <td>-0.006209</td>\n",
              "      <td>-0.049024</td>\n",
              "      <td>-0.195171</td>\n",
              "      <td>1.000000</td>\n",
              "      <td>0.061212</td>\n",
              "      <td>0.040044</td>\n",
              "      <td>-0.028121</td>\n",
              "    </tr>\n",
              "    <tr>\n",
              "      <th>Wind Bearing (degrees)</th>\n",
              "      <td>0.037990</td>\n",
              "      <td>0.039402</td>\n",
              "      <td>0.001123</td>\n",
              "      <td>0.061212</td>\n",
              "      <td>1.000000</td>\n",
              "      <td>0.018904</td>\n",
              "      <td>0.032640</td>\n",
              "    </tr>\n",
              "    <tr>\n",
              "      <th>Visibility (km)</th>\n",
              "      <td>0.470117</td>\n",
              "      <td>0.460022</td>\n",
              "      <td>-0.500741</td>\n",
              "      <td>0.040044</td>\n",
              "      <td>0.018904</td>\n",
              "      <td>1.000000</td>\n",
              "      <td>0.093260</td>\n",
              "    </tr>\n",
              "    <tr>\n",
              "      <th>Pressure (millibars)</th>\n",
              "      <td>-0.054451</td>\n",
              "      <td>-0.054223</td>\n",
              "      <td>0.011775</td>\n",
              "      <td>-0.028121</td>\n",
              "      <td>0.032640</td>\n",
              "      <td>0.093260</td>\n",
              "      <td>1.000000</td>\n",
              "    </tr>\n",
              "  </tbody>\n",
              "</table>\n",
              "</div>"
            ],
            "text/plain": [
              "                        Temperature (C)  Apparent_Temperature_C  Humidity  \\\n",
              "Temperature (C)                1.000000                0.994333 -0.657914   \n",
              "Apparent_Temperature_C         0.994333                1.000000 -0.631709   \n",
              "Humidity                      -0.657914               -0.631709  1.000000   \n",
              "Wind Speed (km/h)             -0.006209               -0.049024 -0.195171   \n",
              "Wind Bearing (degrees)         0.037990                0.039402  0.001123   \n",
              "Visibility (km)                0.470117                0.460022 -0.500741   \n",
              "Pressure (millibars)          -0.054451               -0.054223  0.011775   \n",
              "\n",
              "                        Wind Speed (km/h)  Wind Bearing (degrees)  \\\n",
              "Temperature (C)                 -0.006209                0.037990   \n",
              "Apparent_Temperature_C          -0.049024                0.039402   \n",
              "Humidity                        -0.195171                0.001123   \n",
              "Wind Speed (km/h)                1.000000                0.061212   \n",
              "Wind Bearing (degrees)           0.061212                1.000000   \n",
              "Visibility (km)                  0.040044                0.018904   \n",
              "Pressure (millibars)            -0.028121                0.032640   \n",
              "\n",
              "                        Visibility (km)  Pressure (millibars)  \n",
              "Temperature (C)                0.470117             -0.054451  \n",
              "Apparent_Temperature_C         0.460022             -0.054223  \n",
              "Humidity                      -0.500741              0.011775  \n",
              "Wind Speed (km/h)              0.040044             -0.028121  \n",
              "Wind Bearing (degrees)         0.018904              0.032640  \n",
              "Visibility (km)                1.000000              0.093260  \n",
              "Pressure (millibars)           0.093260              1.000000  "
            ]
          },
          "execution_count": 43,
          "metadata": {},
          "output_type": "execute_result"
        }
      ],
      "source": [
        "pearsoncorr = df.corr(method='pearson', numeric_only=True)\n",
        "pearsoncorr"
      ]
    },
    {
      "cell_type": "code",
      "execution_count": 44,
      "metadata": {
        "colab": {
          "base_uri": "https://localhost:8080/",
          "height": 811
        },
        "id": "pgF9OUuR_dN0",
        "outputId": "85d152e9-b39f-4888-a802-f80b7a3c048a"
      },
      "outputs": [
        {
          "data": {
            "text/plain": [
              "<Axes: >"
            ]
          },
          "execution_count": 44,
          "metadata": {},
          "output_type": "execute_result"
        },
        {
          "data": {
            "image/png": "[encoded data removed]",
            "text/plain": [
              "<Figure size 640x480 with 2 Axes>"
            ]
          },
          "metadata": {},
          "output_type": "display_data"
        }
      ],
      "source": [
        "sns.heatmap(pearsoncorr, xticklabels=pearsoncorr.columns, yticklabels=pearsoncorr.columns, annot=True)"
      ]
    },
    {
      "cell_type": "markdown",
      "metadata": {
        "id": "frcAdfw9H5n0"
      },
      "source": [
        "## **Spearman's Rank Correlation**"
      ]
    },
    {
      "cell_type": "code",
      "execution_count": 45,
      "metadata": {
        "colab": {
          "base_uri": "https://localhost:8080/",
          "height": 304
        },
        "id": "lH6NZAARHmEZ",
        "outputId": "093e2c1e-f2f3-4dfe-88b8-7136bb813327"
      },
      "outputs": [
        {
          "data": {
            "text/html": [
              "<div>\n",
              "<style scoped>\n",
              "    .dataframe tbody tr th:only-of-type {\n",
              "        vertical-align: middle;\n",
              "    }\n",
              "\n",
              "    .dataframe tbody tr th {\n",
              "        vertical-align: top;\n",
              "    }\n",
              "\n",
              "    .dataframe thead th {\n",
              "        text-align: right;\n",
              "    }\n",
              "</style>\n",
              "<table border=\"1\" class=\"dataframe\">\n",
              "  <thead>\n",
              "    <tr style=\"text-align: right;\">\n",
              "      <th></th>\n",
              "      <th>Temperature (C)</th>\n",
              "      <th>Apparent_Temperature_C</th>\n",
              "      <th>Humidity</th>\n",
              "      <th>Wind Speed (km/h)</th>\n",
              "      <th>Wind Bearing (degrees)</th>\n",
              "      <th>Visibility (km)</th>\n",
              "      <th>Pressure (millibars)</th>\n",
              "    </tr>\n",
              "  </thead>\n",
              "  <tbody>\n",
              "    <tr>\n",
              "      <th>Temperature (C)</th>\n",
              "      <td>1.000000</td>\n",
              "      <td>0.997052</td>\n",
              "      <td>-0.593269</td>\n",
              "      <td>-0.028770</td>\n",
              "      <td>0.036920</td>\n",
              "      <td>0.516882</td>\n",
              "      <td>-0.306031</td>\n",
              "    </tr>\n",
              "    <tr>\n",
              "      <th>Apparent_Temperature_C</th>\n",
              "      <td>0.997052</td>\n",
              "      <td>1.000000</td>\n",
              "      <td>-0.581608</td>\n",
              "      <td>-0.069654</td>\n",
              "      <td>0.035942</td>\n",
              "      <td>0.509617</td>\n",
              "      <td>-0.294599</td>\n",
              "    </tr>\n",
              "    <tr>\n",
              "      <th>Humidity</th>\n",
              "      <td>-0.593269</td>\n",
              "      <td>-0.581608</td>\n",
              "      <td>1.000000</td>\n",
              "      <td>-0.228910</td>\n",
              "      <td>0.007949</td>\n",
              "      <td>-0.582933</td>\n",
              "      <td>0.051703</td>\n",
              "    </tr>\n",
              "    <tr>\n",
              "      <th>Wind Speed (km/h)</th>\n",
              "      <td>-0.028770</td>\n",
              "      <td>-0.069654</td>\n",
              "      <td>-0.228910</td>\n",
              "      <td>1.000000</td>\n",
              "      <td>0.065931</td>\n",
              "      <td>0.012937</td>\n",
              "      <td>-0.145203</td>\n",
              "    </tr>\n",
              "    <tr>\n",
              "      <th>Wind Bearing (degrees)</th>\n",
              "      <td>0.036920</td>\n",
              "      <td>0.035942</td>\n",
              "      <td>0.007949</td>\n",
              "      <td>0.065931</td>\n",
              "      <td>1.000000</td>\n",
              "      <td>0.017655</td>\n",
              "      <td>-0.095375</td>\n",
              "    </tr>\n",
              "    <tr>\n",
              "      <th>Visibility (km)</th>\n",
              "      <td>0.516882</td>\n",
              "      <td>0.509617</td>\n",
              "      <td>-0.582933</td>\n",
              "      <td>0.012937</td>\n",
              "      <td>0.017655</td>\n",
              "      <td>1.000000</td>\n",
              "      <td>-0.134652</td>\n",
              "    </tr>\n",
              "    <tr>\n",
              "      <th>Pressure (millibars)</th>\n",
              "      <td>-0.306031</td>\n",
              "      <td>-0.294599</td>\n",
              "      <td>0.051703</td>\n",
              "      <td>-0.145203</td>\n",
              "      <td>-0.095375</td>\n",
              "      <td>-0.134652</td>\n",
              "      <td>1.000000</td>\n",
              "    </tr>\n",
              "  </tbody>\n",
              "</table>\n",
              "</div>"
            ],
            "text/plain": [
              "                        Temperature (C)  Apparent_Temperature_C  Humidity  \\\n",
              "Temperature (C)                1.000000                0.997052 -0.593269   \n",
              "Apparent_Temperature_C         0.997052                1.000000 -0.581608   \n",
              "Humidity                      -0.593269               -0.581608  1.000000   \n",
              "Wind Speed (km/h)             -0.028770               -0.069654 -0.228910   \n",
              "Wind Bearing (degrees)         0.036920                0.035942  0.007949   \n",
              "Visibility (km)                0.516882                0.509617 -0.582933   \n",
              "Pressure (millibars)          -0.306031               -0.294599  0.051703   \n",
              "\n",
              "                        Wind Speed (km/h)  Wind Bearing (degrees)  \\\n",
              "Temperature (C)                 -0.028770                0.036920   \n",
              "Apparent_Temperature_C          -0.069654                0.035942   \n",
              "Humidity                        -0.228910                0.007949   \n",
              "Wind Speed (km/h)                1.000000                0.065931   \n",
              "Wind Bearing (degrees)           0.065931                1.000000   \n",
              "Visibility (km)                  0.012937                0.017655   \n",
              "Pressure (millibars)            -0.145203               -0.095375   \n",
              "\n",
              "                        Visibility (km)  Pressure (millibars)  \n",
              "Temperature (C)                0.516882             -0.306031  \n",
              "Apparent_Temperature_C         0.509617             -0.294599  \n",
              "Humidity                      -0.582933              0.051703  \n",
              "Wind Speed (km/h)              0.012937             -0.145203  \n",
              "Wind Bearing (degrees)         0.017655             -0.095375  \n",
              "Visibility (km)                1.000000             -0.134652  \n",
              "Pressure (millibars)          -0.134652              1.000000  "
            ]
          },
          "execution_count": 45,
          "metadata": {},
          "output_type": "execute_result"
        }
      ],
      "source": [
        "spearmancorr = df.corr(numeric_only=True, method='spearman')\n",
        "spearmancorr"
      ]
    },
    {
      "cell_type": "markdown",
      "metadata": {
        "id": "d45o4iiBIitK"
      },
      "source": [
        "## **Kendall Rank Correlation**"
      ]
    },
    {
      "cell_type": "code",
      "execution_count": 46,
      "metadata": {
        "colab": {
          "base_uri": "https://localhost:8080/",
          "height": 304
        },
        "id": "kLL2CNnUUqd0",
        "outputId": "aff5efab-29d0-4688-a815-945df4094adf"
      },
      "outputs": [
        {
          "data": {
            "text/html": [
              "<div>\n",
              "<style scoped>\n",
              "    .dataframe tbody tr th:only-of-type {\n",
              "        vertical-align: middle;\n",
              "    }\n",
              "\n",
              "    .dataframe tbody tr th {\n",
              "        vertical-align: top;\n",
              "    }\n",
              "\n",
              "    .dataframe thead th {\n",
              "        text-align: right;\n",
              "    }\n",
              "</style>\n",
              "<table border=\"1\" class=\"dataframe\">\n",
              "  <thead>\n",
              "    <tr style=\"text-align: right;\">\n",
              "      <th></th>\n",
              "      <th>Temperature (C)</th>\n",
              "      <th>Apparent_Temperature_C</th>\n",
              "      <th>Humidity</th>\n",
              "      <th>Wind Speed (km/h)</th>\n",
              "      <th>Wind Bearing (degrees)</th>\n",
              "      <th>Visibility (km)</th>\n",
              "      <th>Pressure (millibars)</th>\n",
              "    </tr>\n",
              "  </thead>\n",
              "  <tbody>\n",
              "    <tr>\n",
              "      <th>Temperature (C)</th>\n",
              "      <td>1.000000</td>\n",
              "      <td>0.968978</td>\n",
              "      <td>-0.428952</td>\n",
              "      <td>-0.015253</td>\n",
              "      <td>0.024639</td>\n",
              "      <td>0.364573</td>\n",
              "      <td>-0.208614</td>\n",
              "    </tr>\n",
              "    <tr>\n",
              "      <th>Apparent_Temperature_C</th>\n",
              "      <td>0.968978</td>\n",
              "      <td>1.000000</td>\n",
              "      <td>-0.416567</td>\n",
              "      <td>-0.044836</td>\n",
              "      <td>0.024072</td>\n",
              "      <td>0.358089</td>\n",
              "      <td>-0.201482</td>\n",
              "    </tr>\n",
              "    <tr>\n",
              "      <th>Humidity</th>\n",
              "      <td>-0.428952</td>\n",
              "      <td>-0.416567</td>\n",
              "      <td>1.000000</td>\n",
              "      <td>-0.159777</td>\n",
              "      <td>0.007775</td>\n",
              "      <td>-0.427672</td>\n",
              "      <td>0.039144</td>\n",
              "    </tr>\n",
              "    <tr>\n",
              "      <th>Wind Speed (km/h)</th>\n",
              "      <td>-0.015253</td>\n",
              "      <td>-0.044836</td>\n",
              "      <td>-0.159777</td>\n",
              "      <td>1.000000</td>\n",
              "      <td>0.045747</td>\n",
              "      <td>0.011840</td>\n",
              "      <td>-0.097851</td>\n",
              "    </tr>\n",
              "    <tr>\n",
              "      <th>Wind Bearing (degrees)</th>\n",
              "      <td>0.024639</td>\n",
              "      <td>0.024072</td>\n",
              "      <td>0.007775</td>\n",
              "      <td>0.045747</td>\n",
              "      <td>1.000000</td>\n",
              "      <td>0.015795</td>\n",
              "      <td>-0.062619</td>\n",
              "    </tr>\n",
              "    <tr>\n",
              "      <th>Visibility (km)</th>\n",
              "      <td>0.364573</td>\n",
              "      <td>0.358089</td>\n",
              "      <td>-0.427672</td>\n",
              "      <td>0.011840</td>\n",
              "      <td>0.015795</td>\n",
              "      <td>1.000000</td>\n",
              "      <td>-0.097489</td>\n",
              "    </tr>\n",
              "    <tr>\n",
              "      <th>Pressure (millibars)</th>\n",
              "      <td>-0.208614</td>\n",
              "      <td>-0.201482</td>\n",
              "      <td>0.039144</td>\n",
              "      <td>-0.097851</td>\n",
              "      <td>-0.062619</td>\n",
              "      <td>-0.097489</td>\n",
              "      <td>1.000000</td>\n",
              "    </tr>\n",
              "  </tbody>\n",
              "</table>\n",
              "</div>"
            ],
            "text/plain": [
              "                        Temperature (C)  Apparent_Temperature_C  Humidity  \\\n",
              "Temperature (C)                1.000000                0.968978 -0.428952   \n",
              "Apparent_Temperature_C         0.968978                1.000000 -0.416567   \n",
              "Humidity                      -0.428952               -0.416567  1.000000   \n",
              "Wind Speed (km/h)             -0.015253               -0.044836 -0.159777   \n",
              "Wind Bearing (degrees)         0.024639                0.024072  0.007775   \n",
              "Visibility (km)                0.364573                0.358089 -0.427672   \n",
              "Pressure (millibars)          -0.208614               -0.201482  0.039144   \n",
              "\n",
              "                        Wind Speed (km/h)  Wind Bearing (degrees)  \\\n",
              "Temperature (C)                 -0.015253                0.024639   \n",
              "Apparent_Temperature_C          -0.044836                0.024072   \n",
              "Humidity                        -0.159777                0.007775   \n",
              "Wind Speed (km/h)                1.000000                0.045747   \n",
              "Wind Bearing (degrees)           0.045747                1.000000   \n",
              "Visibility (km)                  0.011840                0.015795   \n",
              "Pressure (millibars)            -0.097851               -0.062619   \n",
              "\n",
              "                        Visibility (km)  Pressure (millibars)  \n",
              "Temperature (C)                0.364573             -0.208614  \n",
              "Apparent_Temperature_C         0.358089             -0.201482  \n",
              "Humidity                      -0.427672              0.039144  \n",
              "Wind Speed (km/h)              0.011840             -0.097851  \n",
              "Wind Bearing (degrees)         0.015795             -0.062619  \n",
              "Visibility (km)                1.000000             -0.097489  \n",
              "Pressure (millibars)          -0.097489              1.000000  "
            ]
          },
          "execution_count": 46,
          "metadata": {},
          "output_type": "execute_result"
        }
      ],
      "source": [
        "kendallcorr = df.corr(numeric_only=True, method='kendall')\n",
        "kendallcorr"
      ]
    },
    {
      "cell_type": "code",
      "execution_count": 47,
      "metadata": {
        "colab": {
          "base_uri": "https://localhost:8080/",
          "height": 811
        },
        "id": "vhjP35QbC_PJ",
        "outputId": "7196f167-4066-4b36-9941-d00cb449df26"
      },
      "outputs": [
        {
          "data": {
            "text/plain": [
              "<Axes: >"
            ]
          },
          "execution_count": 47,
          "metadata": {},
          "output_type": "execute_result"
        },
        {
          "data": {
            "image/png": "[encoded data removed]",
            "text/plain": [
              "<Figure size 640x480 with 2 Axes>"
            ]
          },
          "metadata": {},
          "output_type": "display_data"
        }
      ],
      "source": [
        "sns.heatmap(kendallcorr, xticklabels=kendallcorr.columns, yticklabels=kendallcorr.columns, annot=True)"
      ]
    },
    {
      "cell_type": "markdown",
      "metadata": {
        "id": "wE74UXfWU6J0"
      },
      "source": [
        "## **Chi-Squared Test**"
      ]
    },
    {
      "cell_type": "code",
      "execution_count": 48,
      "metadata": {
        "colab": {
          "base_uri": "https://localhost:8080/"
        },
        "id": "ifcwDOuXU-33",
        "outputId": "58359808-19cf-4abe-d531-e50f8a4ccf29"
      },
      "outputs": [
        {
          "name": "stdout",
          "output_type": "stream",
          "text": [
            "0.0\n"
          ]
        }
      ],
      "source": [
        "from scipy.stats import chi2_contingency\n",
        "contingency= pd.crosstab(df['Precip_Type'], df['Temperature (C)'])\n",
        "c, p, dof, expected = chi2_contingency(contingency)\n",
        "print(p)"
      ]
    },
    {
      "cell_type": "code",
      "execution_count": 49,
      "metadata": {
        "colab": {
          "base_uri": "https://localhost:8080/"
        },
        "id": "NKtLDnjs154M",
        "outputId": "71689462-cf20-424c-a6d5-2fb4eb776cc9"
      },
      "outputs": [
        {
          "name": "stdout",
          "output_type": "stream",
          "text": [
            "1.0458977042487906e-117\n"
          ]
        }
      ],
      "source": [
        "from scipy.stats import chi2_contingency\n",
        "contingency= pd.crosstab(df['Precip_Type'], df['Humidity'])\n",
        "c, p, dof, expected = chi2_contingency(contingency)\n",
        "print(p)"
      ]
    },
    {
      "cell_type": "code",
      "execution_count": 50,
      "metadata": {},
      "outputs": [
        {
          "name": "stdout",
          "output_type": "stream",
          "text": [
            "0.0\n"
          ]
        }
      ],
      "source": [
        "from scipy.stats import chi2_contingency\n",
        "contingency= pd.crosstab(df['Summary'], df['Humidity'])\n",
        "c, p, dof, expected = chi2_contingency(contingency)\n",
        "print(p)"
      ]
    },
    {
      "cell_type": "code",
      "execution_count": 51,
      "metadata": {
        "colab": {
          "base_uri": "https://localhost:8080/"
        },
        "id": "D_lIIhzN26CK",
        "outputId": "3e4ead43-2607-4249-889e-663da071c0fe"
      },
      "outputs": [
        {
          "name": "stdout",
          "output_type": "stream",
          "text": [
            "0.9999599037601423 6596107.750865319\n"
          ]
        }
      ],
      "source": [
        "from scipy.stats import chi2_contingency\n",
        "contingency= pd.crosstab(df['Wind Speed (km/h)'], df['Temperature (C)'])\n",
        "c, p, dof, expected = chi2_contingency(contingency)\n",
        "print(p, c)"
      ]
    },
    {
      "cell_type": "markdown",
      "metadata": {
        "id": "8i1umhw3e9Vi"
      },
      "source": [
        "# **EXPERIMENT-05**"
      ]
    },
    {
      "cell_type": "markdown",
      "metadata": {},
      "source": [
        "Splitting data for training and testing"
      ]
    },
    {
      "cell_type": "code",
      "execution_count": 52,
      "metadata": {
        "id": "gsVxZvg8fDcj"
      },
      "outputs": [],
      "source": [
        "x = df[['Visibility (km)', 'Humidity', 'Apparent_Temperature_C']]\n",
        "y = df[['Temperature (C)']]"
      ]
    },
    {
      "cell_type": "code",
      "execution_count": 53,
      "metadata": {},
      "outputs": [],
      "source": [
        "from sklearn.model_selection import train_test_split\n",
        "x_train, x_test, y_train, y_test = train_test_split(x,y, test_size=0.2, random_state=42)"
      ]
    },
    {
      "cell_type": "code",
      "execution_count": 54,
      "metadata": {},
      "outputs": [
        {
          "data": {
            "text/plain": [
              "(8202, 3)"
            ]
          },
          "execution_count": 54,
          "metadata": {},
          "output_type": "execute_result"
        }
      ],
      "source": [
        "x_train.shape"
      ]
    },
    {
      "cell_type": "code",
      "execution_count": 55,
      "metadata": {},
      "outputs": [
        {
          "data": {
            "text/plain": [
              "(2051, 3)"
            ]
          },
          "execution_count": 55,
          "metadata": {},
          "output_type": "execute_result"
        }
      ],
      "source": [
        "x_test.shape"
      ]
    },
    {
      "cell_type": "markdown",
      "metadata": {},
      "source": [
        "Model Development"
      ]
    },
    {
      "cell_type": "code",
      "execution_count": 56,
      "metadata": {},
      "outputs": [
        {
          "data": {
            "text/html": [
              "<style>#sk-container-id-1 {\n",
              "  /* Definition of color scheme common for light and dark mode */\n",
              "  --sklearn-color-text: black;\n",
              "  --sklearn-color-line: gray;\n",
              "  /* Definition of color scheme for unfitted estimators */\n",
              "  --sklearn-color-unfitted-level-0: #fff5e6;\n",
              "  --sklearn-color-unfitted-level-1: #f6e4d2;\n",
              "  --sklearn-color-unfitted-level-2: #ffe0b3;\n",
              "  --sklearn-color-unfitted-level-3: chocolate;\n",
              "  /* Definition of color scheme for fitted estimators */\n",
              "  --sklearn-color-fitted-level-0: #f0f8ff;\n",
              "  --sklearn-color-fitted-level-1: #d4ebff;\n",
              "  --sklearn-color-fitted-level-2: #b3dbfd;\n",
              "  --sklearn-color-fitted-level-3: cornflowerblue;\n",
              "\n",
              "  /* Specific color for light theme */\n",
              "  --sklearn-color-text-on-default-background: var(--sg-text-color, var(--theme-code-foreground, var(--jp-content-font-color1, black)));\n",
              "  --sklearn-color-background: var(--sg-background-color, var(--theme-background, var(--jp-layout-color0, white)));\n",
              "  --sklearn-color-border-box: var(--sg-text-color, var(--theme-code-foreground, var(--jp-content-font-color1, black)));\n",
              "  --sklearn-color-icon: #696969;\n",
              "\n",
              "  @media (prefers-color-scheme: dark) {\n",
              "    /* Redefinition of color scheme for dark theme */\n",
              "    --sklearn-color-text-on-default-background: var(--sg-text-color, var(--theme-code-foreground, var(--jp-content-font-color1, white)));\n",
              "    --sklearn-color-background: var(--sg-background-color, var(--theme-background, var(--jp-layout-color0, #111)));\n",
              "    --sklearn-color-border-box: var(--sg-text-color, var(--theme-code-foreground, var(--jp-content-font-color1, white)));\n",
              "    --sklearn-color-icon: #878787;\n",
              "  }\n",
              "}\n",
              "\n",
              "#sk-container-id-1 {\n",
              "  color: var(--sklearn-color-text);\n",
              "}\n",
              "\n",
              "#sk-container-id-1 pre {\n",
              "  padding: 0;\n",
              "}\n",
              "\n",
              "#sk-container-id-1 input.sk-hidden--visually {\n",
              "  border: 0;\n",
              "  clip: rect(1px 1px 1px 1px);\n",
              "  clip: rect(1px, 1px, 1px, 1px);\n",
              "  height: 1px;\n",
              "  margin: -1px;\n",
              "  overflow: hidden;\n",
              "  padding: 0;\n",
              "  position: absolute;\n",
              "  width: 1px;\n",
              "}\n",
              "\n",
              "#sk-container-id-1 div.sk-dashed-wrapped {\n",
              "  border: 1px dashed var(--sklearn-color-line);\n",
              "  margin: 0 0.4em 0.5em 0.4em;\n",
              "  box-sizing: border-box;\n",
              "  padding-bottom: 0.4em;\n",
              "  background-color: var(--sklearn-color-background);\n",
              "}\n",
              "\n",
              "#sk-container-id-1 div.sk-container {\n",
              "  /* jupyter's `normalize.less` sets `[hidden] { display: none; }`\n",
              "     but bootstrap.min.css set `[hidden] { display: none !important; }`\n",
              "     so we also need the `!important` here to be able to override the\n",
              "     default hidden behavior on the sphinx rendered scikit-learn.org.\n",
              "     See: https://github.com/scikit-learn/scikit-learn/issues/21755 */\n",
              "  display: inline-block !important;\n",
              "  position: relative;\n",
              "}\n",
              "\n",
              "#sk-container-id-1 div.sk-text-repr-fallback {\n",
              "  display: none;\n",
              "}\n",
              "\n",
              "div.sk-parallel-item,\n",
              "div.sk-serial,\n",
              "div.sk-item {\n",
              "  /* draw centered vertical line to link estimators */\n",
              "  background-image: linear-gradient(var(--sklearn-color-text-on-default-background), var(--sklearn-color-text-on-default-background));\n",
              "  background-size: 2px 100%;\n",
              "  background-repeat: no-repeat;\n",
              "  background-position: center center;\n",
              "}\n",
              "\n",
              "/* Parallel-specific style estimator block */\n",
              "\n",
              "#sk-container-id-1 div.sk-parallel-item::after {\n",
              "  content: \"\";\n",
              "  width: 100%;\n",
              "  border-bottom: 2px solid var(--sklearn-color-text-on-default-background);\n",
              "  flex-grow: 1;\n",
              "}\n",
              "\n",
              "#sk-container-id-1 div.sk-parallel {\n",
              "  display: flex;\n",
              "  align-items: stretch;\n",
              "  justify-content: center;\n",
              "  background-color: var(--sklearn-color-background);\n",
              "  position: relative;\n",
              "}\n",
              "\n",
              "#sk-container-id-1 div.sk-parallel-item {\n",
              "  display: flex;\n",
              "  flex-direction: column;\n",
              "}\n",
              "\n",
              "#sk-container-id-1 div.sk-parallel-item:first-child::after {\n",
              "  align-self: flex-end;\n",
              "  width: 50%;\n",
              "}\n",
              "\n",
              "#sk-container-id-1 div.sk-parallel-item:last-child::after {\n",
              "  align-self: flex-start;\n",
              "  width: 50%;\n",
              "}\n",
              "\n",
              "#sk-container-id-1 div.sk-parallel-item:only-child::after {\n",
              "  width: 0;\n",
              "}\n",
              "\n",
              "/* Serial-specific style estimator block */\n",
              "\n",
              "#sk-container-id-1 div.sk-serial {\n",
              "  display: flex;\n",
              "  flex-direction: column;\n",
              "  align-items: center;\n",
              "  background-color: var(--sklearn-color-background);\n",
              "  padding-right: 1em;\n",
              "  padding-left: 1em;\n",
              "}\n",
              "\n",
              "\n",
              "/* Toggleable style: style used for estimator/Pipeline/ColumnTransformer box that is\n",
              "clickable and can be expanded/collapsed.\n",
              "- Pipeline and ColumnTransformer use this feature and define the default style\n",
              "- Estimators will overwrite some part of the style using the `sk-estimator` class\n",
              "*/\n",
              "\n",
              "/* Pipeline and ColumnTransformer style (default) */\n",
              "\n",
              "#sk-container-id-1 div.sk-toggleable {\n",
              "  /* Default theme specific background. It is overwritten whether we have a\n",
              "  specific estimator or a Pipeline/ColumnTransformer */\n",
              "  background-color: var(--sklearn-color-background);\n",
              "}\n",
              "\n",
              "/* Toggleable label */\n",
              "#sk-container-id-1 label.sk-toggleable__label {\n",
              "  cursor: pointer;\n",
              "  display: block;\n",
              "  width: 100%;\n",
              "  margin-bottom: 0;\n",
              "  padding: 0.5em;\n",
              "  box-sizing: border-box;\n",
              "  text-align: center;\n",
              "}\n",
              "\n",
              "#sk-container-id-1 label.sk-toggleable__label-arrow:before {\n",
              "  /* Arrow on the left of the label */\n",
              "  content: \"▸\";\n",
              "  float: left;\n",
              "  margin-right: 0.25em;\n",
              "  color: var(--sklearn-color-icon);\n",
              "}\n",
              "\n",
              "#sk-container-id-1 label.sk-toggleable__label-arrow:hover:before {\n",
              "  color: var(--sklearn-color-text);\n",
              "}\n",
              "\n",
              "/* Toggleable content - dropdown */\n",
              "\n",
              "#sk-container-id-1 div.sk-toggleable__content {\n",
              "  max-height: 0;\n",
              "  max-width: 0;\n",
              "  overflow: hidden;\n",
              "  text-align: left;\n",
              "  /* unfitted */\n",
              "  background-color: var(--sklearn-color-unfitted-level-0);\n",
              "}\n",
              "\n",
              "#sk-container-id-1 div.sk-toggleable__content.fitted {\n",
              "  /* fitted */\n",
              "  background-color: var(--sklearn-color-fitted-level-0);\n",
              "}\n",
              "\n",
              "#sk-container-id-1 div.sk-toggleable__content pre {\n",
              "  margin: 0.2em;\n",
              "  border-radius: 0.25em;\n",
              "  color: var(--sklearn-color-text);\n",
              "  /* unfitted */\n",
              "  background-color: var(--sklearn-color-unfitted-level-0);\n",
              "}\n",
              "\n",
              "#sk-container-id-1 div.sk-toggleable__content.fitted pre {\n",
              "  /* unfitted */\n",
              "  background-color: var(--sklearn-color-fitted-level-0);\n",
              "}\n",
              "\n",
              "#sk-container-id-1 input.sk-toggleable__control:checked~div.sk-toggleable__content {\n",
              "  /* Expand drop-down */\n",
              "  max-height: 200px;\n",
              "  max-width: 100%;\n",
              "  overflow: auto;\n",
              "}\n",
              "\n",
              "#sk-container-id-1 input.sk-toggleable__control:checked~label.sk-toggleable__label-arrow:before {\n",
              "  content: \"▾\";\n",
              "}\n",
              "\n",
              "/* Pipeline/ColumnTransformer-specific style */\n",
              "\n",
              "#sk-container-id-1 div.sk-label input.sk-toggleable__control:checked~label.sk-toggleable__label {\n",
              "  color: var(--sklearn-color-text);\n",
              "  background-color: var(--sklearn-color-unfitted-level-2);\n",
              "}\n",
              "\n",
              "#sk-container-id-1 div.sk-label.fitted input.sk-toggleable__control:checked~label.sk-toggleable__label {\n",
              "  background-color: var(--sklearn-color-fitted-level-2);\n",
              "}\n",
              "\n",
              "/* Estimator-specific style */\n",
              "\n",
              "/* Colorize estimator box */\n",
              "#sk-container-id-1 div.sk-estimator input.sk-toggleable__control:checked~label.sk-toggleable__label {\n",
              "  /* unfitted */\n",
              "  background-color: var(--sklearn-color-unfitted-level-2);\n",
              "}\n",
              "\n",
              "#sk-container-id-1 div.sk-estimator.fitted input.sk-toggleable__control:checked~label.sk-toggleable__label {\n",
              "  /* fitted */\n",
              "  background-color: var(--sklearn-color-fitted-level-2);\n",
              "}\n",
              "\n",
              "#sk-container-id-1 div.sk-label label.sk-toggleable__label,\n",
              "#sk-container-id-1 div.sk-label label {\n",
              "  /* The background is the default theme color */\n",
              "  color: var(--sklearn-color-text-on-default-background);\n",
              "}\n",
              "\n",
              "/* On hover, darken the color of the background */\n",
              "#sk-container-id-1 div.sk-label:hover label.sk-toggleable__label {\n",
              "  color: var(--sklearn-color-text);\n",
              "  background-color: var(--sklearn-color-unfitted-level-2);\n",
              "}\n",
              "\n",
              "/* Label box, darken color on hover, fitted */\n",
              "#sk-container-id-1 div.sk-label.fitted:hover label.sk-toggleable__label.fitted {\n",
              "  color: var(--sklearn-color-text);\n",
              "  background-color: var(--sklearn-color-fitted-level-2);\n",
              "}\n",
              "\n",
              "/* Estimator label */\n",
              "\n",
              "#sk-container-id-1 div.sk-label label {\n",
              "  font-family: monospace;\n",
              "  font-weight: bold;\n",
              "  display: inline-block;\n",
              "  line-height: 1.2em;\n",
              "}\n",
              "\n",
              "#sk-container-id-1 div.sk-label-container {\n",
              "  text-align: center;\n",
              "}\n",
              "\n",
              "/* Estimator-specific */\n",
              "#sk-container-id-1 div.sk-estimator {\n",
              "  font-family: monospace;\n",
              "  border: 1px dotted var(--sklearn-color-border-box);\n",
              "  border-radius: 0.25em;\n",
              "  box-sizing: border-box;\n",
              "  margin-bottom: 0.5em;\n",
              "  /* unfitted */\n",
              "  background-color: var(--sklearn-color-unfitted-level-0);\n",
              "}\n",
              "\n",
              "#sk-container-id-1 div.sk-estimator.fitted {\n",
              "  /* fitted */\n",
              "  background-color: var(--sklearn-color-fitted-level-0);\n",
              "}\n",
              "\n",
              "/* on hover */\n",
              "#sk-container-id-1 div.sk-estimator:hover {\n",
              "  /* unfitted */\n",
              "  background-color: var(--sklearn-color-unfitted-level-2);\n",
              "}\n",
              "\n",
              "#sk-container-id-1 div.sk-estimator.fitted:hover {\n",
              "  /* fitted */\n",
              "  background-color: var(--sklearn-color-fitted-level-2);\n",
              "}\n",
              "\n",
              "/* Specification for estimator info (e.g. \"i\" and \"?\") */\n",
              "\n",
              "/* Common style for \"i\" and \"?\" */\n",
              "\n",
              ".sk-estimator-doc-link,\n",
              "a:link.sk-estimator-doc-link,\n",
              "a:visited.sk-estimator-doc-link {\n",
              "  float: right;\n",
              "  font-size: smaller;\n",
              "  line-height: 1em;\n",
              "  font-family: monospace;\n",
              "  background-color: var(--sklearn-color-background);\n",
              "  border-radius: 1em;\n",
              "  height: 1em;\n",
              "  width: 1em;\n",
              "  text-decoration: none !important;\n",
              "  margin-left: 1ex;\n",
              "  /* unfitted */\n",
              "  border: var(--sklearn-color-unfitted-level-1) 1pt solid;\n",
              "  color: var(--sklearn-color-unfitted-level-1);\n",
              "}\n",
              "\n",
              ".sk-estimator-doc-link.fitted,\n",
              "a:link.sk-estimator-doc-link.fitted,\n",
              "a:visited.sk-estimator-doc-link.fitted {\n",
              "  /* fitted */\n",
              "  border: var(--sklearn-color-fitted-level-1) 1pt solid;\n",
              "  color: var(--sklearn-color-fitted-level-1);\n",
              "}\n",
              "\n",
              "/* On hover */\n",
              "div.sk-estimator:hover .sk-estimator-doc-link:hover,\n",
              ".sk-estimator-doc-link:hover,\n",
              "div.sk-label-container:hover .sk-estimator-doc-link:hover,\n",
              ".sk-estimator-doc-link:hover {\n",
              "  /* unfitted */\n",
              "  background-color: var(--sklearn-color-unfitted-level-3);\n",
              "  color: var(--sklearn-color-background);\n",
              "  text-decoration: none;\n",
              "}\n",
              "\n",
              "div.sk-estimator.fitted:hover .sk-estimator-doc-link.fitted:hover,\n",
              ".sk-estimator-doc-link.fitted:hover,\n",
              "div.sk-label-container:hover .sk-estimator-doc-link.fitted:hover,\n",
              ".sk-estimator-doc-link.fitted:hover {\n",
              "  /* fitted */\n",
              "  background-color: var(--sklearn-color-fitted-level-3);\n",
              "  color: var(--sklearn-color-background);\n",
              "  text-decoration: none;\n",
              "}\n",
              "\n",
              "/* Span, style for the box shown on hovering the info icon */\n",
              ".sk-estimator-doc-link span {\n",
              "  display: none;\n",
              "  z-index: 9999;\n",
              "  position: relative;\n",
              "  font-weight: normal;\n",
              "  right: .2ex;\n",
              "  padding: .5ex;\n",
              "  margin: .5ex;\n",
              "  width: min-content;\n",
              "  min-width: 20ex;\n",
              "  max-width: 50ex;\n",
              "  color: var(--sklearn-color-text);\n",
              "  box-shadow: 2pt 2pt 4pt #999;\n",
              "  /* unfitted */\n",
              "  background: var(--sklearn-color-unfitted-level-0);\n",
              "  border: .5pt solid var(--sklearn-color-unfitted-level-3);\n",
              "}\n",
              "\n",
              ".sk-estimator-doc-link.fitted span {\n",
              "  /* fitted */\n",
              "  background: var(--sklearn-color-fitted-level-0);\n",
              "  border: var(--sklearn-color-fitted-level-3);\n",
              "}\n",
              "\n",
              ".sk-estimator-doc-link:hover span {\n",
              "  display: block;\n",
              "}\n",
              "\n",
              "/* \"?\"-specific style due to the `<a>` HTML tag */\n",
              "\n",
              "#sk-container-id-1 a.estimator_doc_link {\n",
              "  float: right;\n",
              "  font-size: 1rem;\n",
              "  line-height: 1em;\n",
              "  font-family: monospace;\n",
              "  background-color: var(--sklearn-color-background);\n",
              "  border-radius: 1rem;\n",
              "  height: 1rem;\n",
              "  width: 1rem;\n",
              "  text-decoration: none;\n",
              "  /* unfitted */\n",
              "  color: var(--sklearn-color-unfitted-level-1);\n",
              "  border: var(--sklearn-color-unfitted-level-1) 1pt solid;\n",
              "}\n",
              "\n",
              "#sk-container-id-1 a.estimator_doc_link.fitted {\n",
              "  /* fitted */\n",
              "  border: var(--sklearn-color-fitted-level-1) 1pt solid;\n",
              "  color: var(--sklearn-color-fitted-level-1);\n",
              "}\n",
              "\n",
              "/* On hover */\n",
              "#sk-container-id-1 a.estimator_doc_link:hover {\n",
              "  /* unfitted */\n",
              "  background-color: var(--sklearn-color-unfitted-level-3);\n",
              "  color: var(--sklearn-color-background);\n",
              "  text-decoration: none;\n",
              "}\n",
              "\n",
              "#sk-container-id-1 a.estimator_doc_link.fitted:hover {\n",
              "  /* fitted */\n",
              "  background-color: var(--sklearn-color-fitted-level-3);\n",
              "}\n",
              "</style><div id=\"sk-container-id-1\" class=\"sk-top-container\"><div class=\"sk-text-repr-fallback\"><pre>LinearRegression()</pre><b>In a Jupyter environment, please rerun this cell to show the HTML representation or trust the notebook. <br />On GitHub, the HTML representation is unable to render, please try loading this page with nbviewer.org.</b></div><div class=\"sk-container\" hidden><div class=\"sk-item\"><div class=\"sk-estimator fitted sk-toggleable\"><input class=\"sk-toggleable__control sk-hidden--visually\" id=\"sk-estimator-id-1\" type=\"checkbox\" checked><label for=\"sk-estimator-id-1\" class=\"sk-toggleable__label fitted sk-toggleable__label-arrow fitted\">&nbsp;&nbsp;LinearRegression<a class=\"sk-estimator-doc-link fitted\" rel=\"noreferrer\" target=\"_blank\" href=\"https://scikit-learn.org/1.4/modules/generated/sklearn.linear_model.LinearRegression.html\">?<span>Documentation for LinearRegression</span></a><span class=\"sk-estimator-doc-link fitted\">i<span>Fitted</span></span></label><div class=\"sk-toggleable__content fitted\"><pre>LinearRegression()</pre></div> </div></div></div></div>"
            ],
            "text/plain": [
              "LinearRegression()"
            ]
          },
          "execution_count": 56,
          "metadata": {},
          "output_type": "execute_result"
        }
      ],
      "source": [
        "from sklearn.linear_model import LinearRegression\n",
        "model = LinearRegression()\n",
        "model.fit(x_train, y_train)"
      ]
    },
    {
      "cell_type": "code",
      "execution_count": 57,
      "metadata": {},
      "outputs": [
        {
          "name": "stdout",
          "output_type": "stream",
          "text": [
            "[[ 0.00363305 -2.34259723  0.85237425]]\n",
            "[4.44685973]\n"
          ]
        }
      ],
      "source": [
        "print(model.coef_)\n",
        "print(model.intercept_)"
      ]
    },
    {
      "cell_type": "markdown",
      "metadata": {},
      "source": [
        "Model Prediction"
      ]
    },
    {
      "cell_type": "code",
      "execution_count": 58,
      "metadata": {},
      "outputs": [],
      "source": [
        "y_pred = model.predict(x_test)"
      ]
    },
    {
      "cell_type": "markdown",
      "metadata": {},
      "source": [
        "Converting into 1-D array"
      ]
    },
    {
      "cell_type": "code",
      "execution_count": 59,
      "metadata": {},
      "outputs": [
        {
          "data": {
            "text/plain": [
              "(2051,)"
            ]
          },
          "execution_count": 59,
          "metadata": {},
          "output_type": "execute_result"
        }
      ],
      "source": [
        "Y_pred = y_pred.ravel()\n",
        "Y_pred.shape"
      ]
    },
    {
      "cell_type": "code",
      "execution_count": 60,
      "metadata": {},
      "outputs": [
        {
          "data": {
            "text/plain": [
              "array([11.06111111, 17.03333333, -0.25      , ...,  0.02222222,\n",
              "       15.76666667,  7.17222222])"
            ]
          },
          "execution_count": 60,
          "metadata": {},
          "output_type": "execute_result"
        }
      ],
      "source": [
        "Y_test = y_test['Temperature (C)'].values\n",
        "Y_test"
      ]
    },
    {
      "cell_type": "code",
      "execution_count": 61,
      "metadata": {},
      "outputs": [
        {
          "data": {
            "text/plain": [
              "(2051,)"
            ]
          },
          "execution_count": 61,
          "metadata": {},
          "output_type": "execute_result"
        }
      ],
      "source": [
        "Y_test = Y_test.ravel()\n",
        "Y_test.shape"
      ]
    },
    {
      "cell_type": "code",
      "execution_count": 62,
      "metadata": {},
      "outputs": [
        {
          "name": "stdout",
          "output_type": "stream",
          "text": [
            "      Actual Temperature  Predicted Temperature\n",
            "0              11.061111              12.030527\n",
            "1              17.033333              17.334122\n",
            "2              -0.250000              -0.706604\n",
            "3               6.155556               5.697813\n",
            "4               2.916667               1.992708\n",
            "...                  ...                    ...\n",
            "2046            9.838889               8.395061\n",
            "2047           19.938889              19.389076\n",
            "2048            0.022222               2.123789\n",
            "2049           15.766667              16.374912\n",
            "2050            7.172222               8.885247\n",
            "\n",
            "[2051 rows x 2 columns]\n"
          ]
        }
      ],
      "source": [
        "df1 = pd.DataFrame(Y_test, Y_pred)\n",
        "df1 = pd.DataFrame({\"Actual Temperature\":Y_test, \"Predicted Temperature\":Y_pred})\n",
        "print(df1)"
      ]
    },
    {
      "cell_type": "code",
      "execution_count": 63,
      "metadata": {},
      "outputs": [
        {
          "data": {
            "text/plain": [
              "98.95707003587394"
            ]
          },
          "execution_count": 63,
          "metadata": {},
          "output_type": "execute_result"
        }
      ],
      "source": [
        "from sklearn.metrics import confusion_matrix, accuracy_score\n",
        "model.score(x_test, Y_test)*100"
      ]
    },
    {
      "cell_type": "code",
      "execution_count": 65,
      "metadata": {},
      "outputs": [
        {
          "name": "stdout",
          "output_type": "stream",
          "text": [
            "Predicted: [[-23.01746073]]\n"
          ]
        },
        {
          "name": "stderr",
          "output_type": "stream",
          "text": [
            "c:\\Users\\Preeti Khamkar\\Python__\\Lib\\site-packages\\sklearn\\base.py:493: UserWarning: X does not have valid feature names, but LinearRegression was fitted with feature names\n",
            "  warnings.warn(\n"
          ]
        }
      ],
      "source": [
        "trial = np.array([[0.9,15, 9]])\n",
        "print(\"Predicted: {}\".format(model.predict(trial)))"
      ]
    },
    {
      "cell_type": "markdown",
      "metadata": {},
      "source": [
        "Logistic Regression"
      ]
    },
    {
      "cell_type": "code",
      "execution_count": null,
      "metadata": {},
      "outputs": [
        {
          "data": {
            "text/plain": [
              "Index(['Formatted_Date', 'Summary', 'Precip_Type', 'Temperature (C)',\n",
              "       'Apparent_Temperature_C', 'Humidity', 'Wind Speed (km/h)',\n",
              "       'Wind Bearing (degrees)', 'Visibility (km)', 'Pressure (millibars)',\n",
              "       'Daily Summary'],\n",
              "      dtype='object')"
            ]
          },
          "execution_count": 64,
          "metadata": {},
          "output_type": "execute_result"
        }
      ],
      "source": [
        "df.columns"
      ]
    },
    {
      "cell_type": "code",
      "execution_count": null,
      "metadata": {},
      "outputs": [],
      "source": [
        "data = df[['Precip_Type', 'Humidity', 'Temperature (C)']]"
      ]
    },
    {
      "cell_type": "code",
      "execution_count": null,
      "metadata": {},
      "outputs": [],
      "source": [
        "from sklearn.linear_model import LogisticRegression\n",
        "reg = LogisticRegression()"
      ]
    },
    {
      "cell_type": "code",
      "execution_count": null,
      "metadata": {},
      "outputs": [],
      "source": [
        "from sklearn.model_selection import GridSearchCV\n",
        "parameter ={'penalty' : ['l2','elasticnet'] , 'C': [1,2,3,4,5,6,10,20,30,40,50] , 'max_iter': [100,200,300,]}"
      ]
    },
    {
      "cell_type": "code",
      "execution_count": null,
      "metadata": {},
      "outputs": [
        {
          "name": "stderr",
          "output_type": "stream",
          "text": [
            "c:\\Users\\Preeti Khamkar\\Python__\\Lib\\site-packages\\sklearn\\utils\\validation.py:1300: DataConversionWarning: A column-vector y was passed when a 1d array was expected. Please change the shape of y to (n_samples, ), for example using ravel().\n",
            "  y = column_or_1d(y, warn=True)\n"
          ]
        },
        {
          "ename": "ValueError",
          "evalue": "Unknown label type: continuous. Maybe you are trying to fit a classifier, which expects discrete classes on a regression target with continuous values.",
          "output_type": "error",
          "traceback": [
            "\u001b[1;31m---------------------------------------------------------------------------\u001b[0m",
            "\u001b[1;31mValueError\u001b[0m                                Traceback (most recent call last)",
            "Cell \u001b[1;32mIn[68], line 2\u001b[0m\n\u001b[0;32m      1\u001b[0m reg_model \u001b[38;5;241m=\u001b[39m GridSearchCV(reg , param_grid \u001b[38;5;241m=\u001b[39m parameter , scoring \u001b[38;5;241m=\u001b[39m \u001b[38;5;124m'\u001b[39m\u001b[38;5;124maccuracy\u001b[39m\u001b[38;5;124m'\u001b[39m , cv\u001b[38;5;241m=\u001b[39m \u001b[38;5;241m5\u001b[39m , error_score\u001b[38;5;241m=\u001b[39m\u001b[38;5;124m'\u001b[39m\u001b[38;5;124mraise\u001b[39m\u001b[38;5;124m'\u001b[39m)\n\u001b[1;32m----> 2\u001b[0m \u001b[43mreg_model\u001b[49m\u001b[38;5;241;43m.\u001b[39;49m\u001b[43mfit\u001b[49m\u001b[43m(\u001b[49m\u001b[43mx_train\u001b[49m\u001b[43m \u001b[49m\u001b[43m,\u001b[49m\u001b[43m \u001b[49m\u001b[43my_train\u001b[49m\u001b[43m)\u001b[49m\n",
            "File \u001b[1;32mc:\\Users\\Preeti Khamkar\\Python__\\Lib\\site-packages\\sklearn\\base.py:1474\u001b[0m, in \u001b[0;36m_fit_context.<locals>.decorator.<locals>.wrapper\u001b[1;34m(estimator, *args, **kwargs)\u001b[0m\n\u001b[0;32m   1467\u001b[0m     estimator\u001b[38;5;241m.\u001b[39m_validate_params()\n\u001b[0;32m   1469\u001b[0m \u001b[38;5;28;01mwith\u001b[39;00m config_context(\n\u001b[0;32m   1470\u001b[0m     skip_parameter_validation\u001b[38;5;241m=\u001b[39m(\n\u001b[0;32m   1471\u001b[0m         prefer_skip_nested_validation \u001b[38;5;129;01mor\u001b[39;00m global_skip_validation\n\u001b[0;32m   1472\u001b[0m     )\n\u001b[0;32m   1473\u001b[0m ):\n\u001b[1;32m-> 1474\u001b[0m     \u001b[38;5;28;01mreturn\u001b[39;00m \u001b[43mfit_method\u001b[49m\u001b[43m(\u001b[49m\u001b[43mestimator\u001b[49m\u001b[43m,\u001b[49m\u001b[43m \u001b[49m\u001b[38;5;241;43m*\u001b[39;49m\u001b[43margs\u001b[49m\u001b[43m,\u001b[49m\u001b[43m \u001b[49m\u001b[38;5;241;43m*\u001b[39;49m\u001b[38;5;241;43m*\u001b[39;49m\u001b[43mkwargs\u001b[49m\u001b[43m)\u001b[49m\n",
            "File \u001b[1;32mc:\\Users\\Preeti Khamkar\\Python__\\Lib\\site-packages\\sklearn\\model_selection\\_search.py:970\u001b[0m, in \u001b[0;36mBaseSearchCV.fit\u001b[1;34m(self, X, y, **params)\u001b[0m\n\u001b[0;32m    964\u001b[0m     results \u001b[38;5;241m=\u001b[39m \u001b[38;5;28mself\u001b[39m\u001b[38;5;241m.\u001b[39m_format_results(\n\u001b[0;32m    965\u001b[0m         all_candidate_params, n_splits, all_out, all_more_results\n\u001b[0;32m    966\u001b[0m     )\n\u001b[0;32m    968\u001b[0m     \u001b[38;5;28;01mreturn\u001b[39;00m results\n\u001b[1;32m--> 970\u001b[0m \u001b[38;5;28;43mself\u001b[39;49m\u001b[38;5;241;43m.\u001b[39;49m\u001b[43m_run_search\u001b[49m\u001b[43m(\u001b[49m\u001b[43mevaluate_candidates\u001b[49m\u001b[43m)\u001b[49m\n\u001b[0;32m    972\u001b[0m \u001b[38;5;66;03m# multimetric is determined here because in the case of a callable\u001b[39;00m\n\u001b[0;32m    973\u001b[0m \u001b[38;5;66;03m# self.scoring the return type is only known after calling\u001b[39;00m\n\u001b[0;32m    974\u001b[0m first_test_score \u001b[38;5;241m=\u001b[39m all_out[\u001b[38;5;241m0\u001b[39m][\u001b[38;5;124m\"\u001b[39m\u001b[38;5;124mtest_scores\u001b[39m\u001b[38;5;124m\"\u001b[39m]\n",
            "File \u001b[1;32mc:\\Users\\Preeti Khamkar\\Python__\\Lib\\site-packages\\sklearn\\model_selection\\_search.py:1527\u001b[0m, in \u001b[0;36mGridSearchCV._run_search\u001b[1;34m(self, evaluate_candidates)\u001b[0m\n\u001b[0;32m   1525\u001b[0m \u001b[38;5;28;01mdef\u001b[39;00m \u001b[38;5;21m_run_search\u001b[39m(\u001b[38;5;28mself\u001b[39m, evaluate_candidates):\n\u001b[0;32m   1526\u001b[0m \u001b[38;5;250m    \u001b[39m\u001b[38;5;124;03m\"\"\"Search all candidates in param_grid\"\"\"\u001b[39;00m\n\u001b[1;32m-> 1527\u001b[0m     \u001b[43mevaluate_candidates\u001b[49m\u001b[43m(\u001b[49m\u001b[43mParameterGrid\u001b[49m\u001b[43m(\u001b[49m\u001b[38;5;28;43mself\u001b[39;49m\u001b[38;5;241;43m.\u001b[39;49m\u001b[43mparam_grid\u001b[49m\u001b[43m)\u001b[49m\u001b[43m)\u001b[49m\n",
            "File \u001b[1;32mc:\\Users\\Preeti Khamkar\\Python__\\Lib\\site-packages\\sklearn\\model_selection\\_search.py:916\u001b[0m, in \u001b[0;36mBaseSearchCV.fit.<locals>.evaluate_candidates\u001b[1;34m(candidate_params, cv, more_results)\u001b[0m\n\u001b[0;32m    908\u001b[0m \u001b[38;5;28;01mif\u001b[39;00m \u001b[38;5;28mself\u001b[39m\u001b[38;5;241m.\u001b[39mverbose \u001b[38;5;241m>\u001b[39m \u001b[38;5;241m0\u001b[39m:\n\u001b[0;32m    909\u001b[0m     \u001b[38;5;28mprint\u001b[39m(\n\u001b[0;32m    910\u001b[0m         \u001b[38;5;124m\"\u001b[39m\u001b[38;5;124mFitting \u001b[39m\u001b[38;5;132;01m{0}\u001b[39;00m\u001b[38;5;124m folds for each of \u001b[39m\u001b[38;5;132;01m{1}\u001b[39;00m\u001b[38;5;124m candidates,\u001b[39m\u001b[38;5;124m\"\u001b[39m\n\u001b[0;32m    911\u001b[0m         \u001b[38;5;124m\"\u001b[39m\u001b[38;5;124m totalling \u001b[39m\u001b[38;5;132;01m{2}\u001b[39;00m\u001b[38;5;124m fits\u001b[39m\u001b[38;5;124m\"\u001b[39m\u001b[38;5;241m.\u001b[39mformat(\n\u001b[0;32m    912\u001b[0m             n_splits, n_candidates, n_candidates \u001b[38;5;241m*\u001b[39m n_splits\n\u001b[0;32m    913\u001b[0m         )\n\u001b[0;32m    914\u001b[0m     )\n\u001b[1;32m--> 916\u001b[0m out \u001b[38;5;241m=\u001b[39m \u001b[43mparallel\u001b[49m\u001b[43m(\u001b[49m\n\u001b[0;32m    917\u001b[0m \u001b[43m    \u001b[49m\u001b[43mdelayed\u001b[49m\u001b[43m(\u001b[49m\u001b[43m_fit_and_score\u001b[49m\u001b[43m)\u001b[49m\u001b[43m(\u001b[49m\n\u001b[0;32m    918\u001b[0m \u001b[43m        \u001b[49m\u001b[43mclone\u001b[49m\u001b[43m(\u001b[49m\u001b[43mbase_estimator\u001b[49m\u001b[43m)\u001b[49m\u001b[43m,\u001b[49m\n\u001b[0;32m    919\u001b[0m \u001b[43m        \u001b[49m\u001b[43mX\u001b[49m\u001b[43m,\u001b[49m\n\u001b[0;32m    920\u001b[0m \u001b[43m        \u001b[49m\u001b[43my\u001b[49m\u001b[43m,\u001b[49m\n\u001b[0;32m    921\u001b[0m \u001b[43m        \u001b[49m\u001b[43mtrain\u001b[49m\u001b[38;5;241;43m=\u001b[39;49m\u001b[43mtrain\u001b[49m\u001b[43m,\u001b[49m\n\u001b[0;32m    922\u001b[0m \u001b[43m        \u001b[49m\u001b[43mtest\u001b[49m\u001b[38;5;241;43m=\u001b[39;49m\u001b[43mtest\u001b[49m\u001b[43m,\u001b[49m\n\u001b[0;32m    923\u001b[0m \u001b[43m        \u001b[49m\u001b[43mparameters\u001b[49m\u001b[38;5;241;43m=\u001b[39;49m\u001b[43mparameters\u001b[49m\u001b[43m,\u001b[49m\n\u001b[0;32m    924\u001b[0m \u001b[43m        \u001b[49m\u001b[43msplit_progress\u001b[49m\u001b[38;5;241;43m=\u001b[39;49m\u001b[43m(\u001b[49m\u001b[43msplit_idx\u001b[49m\u001b[43m,\u001b[49m\u001b[43m \u001b[49m\u001b[43mn_splits\u001b[49m\u001b[43m)\u001b[49m\u001b[43m,\u001b[49m\n\u001b[0;32m    925\u001b[0m \u001b[43m        \u001b[49m\u001b[43mcandidate_progress\u001b[49m\u001b[38;5;241;43m=\u001b[39;49m\u001b[43m(\u001b[49m\u001b[43mcand_idx\u001b[49m\u001b[43m,\u001b[49m\u001b[43m \u001b[49m\u001b[43mn_candidates\u001b[49m\u001b[43m)\u001b[49m\u001b[43m,\u001b[49m\n\u001b[0;32m    926\u001b[0m \u001b[43m        \u001b[49m\u001b[38;5;241;43m*\u001b[39;49m\u001b[38;5;241;43m*\u001b[39;49m\u001b[43mfit_and_score_kwargs\u001b[49m\u001b[43m,\u001b[49m\n\u001b[0;32m    927\u001b[0m \u001b[43m    \u001b[49m\u001b[43m)\u001b[49m\n\u001b[0;32m    928\u001b[0m \u001b[43m    \u001b[49m\u001b[38;5;28;43;01mfor\u001b[39;49;00m\u001b[43m \u001b[49m\u001b[43m(\u001b[49m\u001b[43mcand_idx\u001b[49m\u001b[43m,\u001b[49m\u001b[43m \u001b[49m\u001b[43mparameters\u001b[49m\u001b[43m)\u001b[49m\u001b[43m,\u001b[49m\u001b[43m \u001b[49m\u001b[43m(\u001b[49m\u001b[43msplit_idx\u001b[49m\u001b[43m,\u001b[49m\u001b[43m \u001b[49m\u001b[43m(\u001b[49m\u001b[43mtrain\u001b[49m\u001b[43m,\u001b[49m\u001b[43m \u001b[49m\u001b[43mtest\u001b[49m\u001b[43m)\u001b[49m\u001b[43m)\u001b[49m\u001b[43m \u001b[49m\u001b[38;5;129;43;01min\u001b[39;49;00m\u001b[43m \u001b[49m\u001b[43mproduct\u001b[49m\u001b[43m(\u001b[49m\n\u001b[0;32m    929\u001b[0m \u001b[43m        \u001b[49m\u001b[38;5;28;43menumerate\u001b[39;49m\u001b[43m(\u001b[49m\u001b[43mcandidate_params\u001b[49m\u001b[43m)\u001b[49m\u001b[43m,\u001b[49m\n\u001b[0;32m    930\u001b[0m \u001b[43m        \u001b[49m\u001b[38;5;28;43menumerate\u001b[39;49m\u001b[43m(\u001b[49m\u001b[43mcv\u001b[49m\u001b[38;5;241;43m.\u001b[39;49m\u001b[43msplit\u001b[49m\u001b[43m(\u001b[49m\u001b[43mX\u001b[49m\u001b[43m,\u001b[49m\u001b[43m \u001b[49m\u001b[43my\u001b[49m\u001b[43m,\u001b[49m\u001b[43m \u001b[49m\u001b[38;5;241;43m*\u001b[39;49m\u001b[38;5;241;43m*\u001b[39;49m\u001b[43mrouted_params\u001b[49m\u001b[38;5;241;43m.\u001b[39;49m\u001b[43msplitter\u001b[49m\u001b[38;5;241;43m.\u001b[39;49m\u001b[43msplit\u001b[49m\u001b[43m)\u001b[49m\u001b[43m)\u001b[49m\u001b[43m,\u001b[49m\n\u001b[0;32m    931\u001b[0m \u001b[43m    \u001b[49m\u001b[43m)\u001b[49m\n\u001b[0;32m    932\u001b[0m \u001b[43m\u001b[49m\u001b[43m)\u001b[49m\n\u001b[0;32m    934\u001b[0m \u001b[38;5;28;01mif\u001b[39;00m \u001b[38;5;28mlen\u001b[39m(out) \u001b[38;5;241m<\u001b[39m \u001b[38;5;241m1\u001b[39m:\n\u001b[0;32m    935\u001b[0m     \u001b[38;5;28;01mraise\u001b[39;00m \u001b[38;5;167;01mValueError\u001b[39;00m(\n\u001b[0;32m    936\u001b[0m         \u001b[38;5;124m\"\u001b[39m\u001b[38;5;124mNo fits were performed. \u001b[39m\u001b[38;5;124m\"\u001b[39m\n\u001b[0;32m    937\u001b[0m         \u001b[38;5;124m\"\u001b[39m\u001b[38;5;124mWas the CV iterator empty? \u001b[39m\u001b[38;5;124m\"\u001b[39m\n\u001b[0;32m    938\u001b[0m         \u001b[38;5;124m\"\u001b[39m\u001b[38;5;124mWere there no candidates?\u001b[39m\u001b[38;5;124m\"\u001b[39m\n\u001b[0;32m    939\u001b[0m     )\n",
            "File \u001b[1;32mc:\\Users\\Preeti Khamkar\\Python__\\Lib\\site-packages\\sklearn\\utils\\parallel.py:67\u001b[0m, in \u001b[0;36mParallel.__call__\u001b[1;34m(self, iterable)\u001b[0m\n\u001b[0;32m     62\u001b[0m config \u001b[38;5;241m=\u001b[39m get_config()\n\u001b[0;32m     63\u001b[0m iterable_with_config \u001b[38;5;241m=\u001b[39m (\n\u001b[0;32m     64\u001b[0m     (_with_config(delayed_func, config), args, kwargs)\n\u001b[0;32m     65\u001b[0m     \u001b[38;5;28;01mfor\u001b[39;00m delayed_func, args, kwargs \u001b[38;5;129;01min\u001b[39;00m iterable\n\u001b[0;32m     66\u001b[0m )\n\u001b[1;32m---> 67\u001b[0m \u001b[38;5;28;01mreturn\u001b[39;00m \u001b[38;5;28;43msuper\u001b[39;49m\u001b[43m(\u001b[49m\u001b[43m)\u001b[49m\u001b[38;5;241;43m.\u001b[39;49m\u001b[38;5;21;43m__call__\u001b[39;49m\u001b[43m(\u001b[49m\u001b[43miterable_with_config\u001b[49m\u001b[43m)\u001b[49m\n",
            "File \u001b[1;32mc:\\Users\\Preeti Khamkar\\Python__\\Lib\\site-packages\\joblib\\parallel.py:1863\u001b[0m, in \u001b[0;36mParallel.__call__\u001b[1;34m(self, iterable)\u001b[0m\n\u001b[0;32m   1861\u001b[0m     output \u001b[38;5;241m=\u001b[39m \u001b[38;5;28mself\u001b[39m\u001b[38;5;241m.\u001b[39m_get_sequential_output(iterable)\n\u001b[0;32m   1862\u001b[0m     \u001b[38;5;28mnext\u001b[39m(output)\n\u001b[1;32m-> 1863\u001b[0m     \u001b[38;5;28;01mreturn\u001b[39;00m output \u001b[38;5;28;01mif\u001b[39;00m \u001b[38;5;28mself\u001b[39m\u001b[38;5;241m.\u001b[39mreturn_generator \u001b[38;5;28;01melse\u001b[39;00m \u001b[38;5;28;43mlist\u001b[39;49m\u001b[43m(\u001b[49m\u001b[43moutput\u001b[49m\u001b[43m)\u001b[49m\n\u001b[0;32m   1865\u001b[0m \u001b[38;5;66;03m# Let's create an ID that uniquely identifies the current call. If the\u001b[39;00m\n\u001b[0;32m   1866\u001b[0m \u001b[38;5;66;03m# call is interrupted early and that the same instance is immediately\u001b[39;00m\n\u001b[0;32m   1867\u001b[0m \u001b[38;5;66;03m# re-used, this id will be used to prevent workers that were\u001b[39;00m\n\u001b[0;32m   1868\u001b[0m \u001b[38;5;66;03m# concurrently finalizing a task from the previous call to run the\u001b[39;00m\n\u001b[0;32m   1869\u001b[0m \u001b[38;5;66;03m# callback.\u001b[39;00m\n\u001b[0;32m   1870\u001b[0m \u001b[38;5;28;01mwith\u001b[39;00m \u001b[38;5;28mself\u001b[39m\u001b[38;5;241m.\u001b[39m_lock:\n",
            "File \u001b[1;32mc:\\Users\\Preeti Khamkar\\Python__\\Lib\\site-packages\\joblib\\parallel.py:1792\u001b[0m, in \u001b[0;36mParallel._get_sequential_output\u001b[1;34m(self, iterable)\u001b[0m\n\u001b[0;32m   1790\u001b[0m \u001b[38;5;28mself\u001b[39m\u001b[38;5;241m.\u001b[39mn_dispatched_batches \u001b[38;5;241m+\u001b[39m\u001b[38;5;241m=\u001b[39m \u001b[38;5;241m1\u001b[39m\n\u001b[0;32m   1791\u001b[0m \u001b[38;5;28mself\u001b[39m\u001b[38;5;241m.\u001b[39mn_dispatched_tasks \u001b[38;5;241m+\u001b[39m\u001b[38;5;241m=\u001b[39m \u001b[38;5;241m1\u001b[39m\n\u001b[1;32m-> 1792\u001b[0m res \u001b[38;5;241m=\u001b[39m \u001b[43mfunc\u001b[49m\u001b[43m(\u001b[49m\u001b[38;5;241;43m*\u001b[39;49m\u001b[43margs\u001b[49m\u001b[43m,\u001b[49m\u001b[43m \u001b[49m\u001b[38;5;241;43m*\u001b[39;49m\u001b[38;5;241;43m*\u001b[39;49m\u001b[43mkwargs\u001b[49m\u001b[43m)\u001b[49m\n\u001b[0;32m   1793\u001b[0m \u001b[38;5;28mself\u001b[39m\u001b[38;5;241m.\u001b[39mn_completed_tasks \u001b[38;5;241m+\u001b[39m\u001b[38;5;241m=\u001b[39m \u001b[38;5;241m1\u001b[39m\n\u001b[0;32m   1794\u001b[0m \u001b[38;5;28mself\u001b[39m\u001b[38;5;241m.\u001b[39mprint_progress()\n",
            "File \u001b[1;32mc:\\Users\\Preeti Khamkar\\Python__\\Lib\\site-packages\\sklearn\\utils\\parallel.py:129\u001b[0m, in \u001b[0;36m_FuncWrapper.__call__\u001b[1;34m(self, *args, **kwargs)\u001b[0m\n\u001b[0;32m    127\u001b[0m     config \u001b[38;5;241m=\u001b[39m {}\n\u001b[0;32m    128\u001b[0m \u001b[38;5;28;01mwith\u001b[39;00m config_context(\u001b[38;5;241m*\u001b[39m\u001b[38;5;241m*\u001b[39mconfig):\n\u001b[1;32m--> 129\u001b[0m     \u001b[38;5;28;01mreturn\u001b[39;00m \u001b[38;5;28;43mself\u001b[39;49m\u001b[38;5;241;43m.\u001b[39;49m\u001b[43mfunction\u001b[49m\u001b[43m(\u001b[49m\u001b[38;5;241;43m*\u001b[39;49m\u001b[43margs\u001b[49m\u001b[43m,\u001b[49m\u001b[43m \u001b[49m\u001b[38;5;241;43m*\u001b[39;49m\u001b[38;5;241;43m*\u001b[39;49m\u001b[43mkwargs\u001b[49m\u001b[43m)\u001b[49m\n",
            "File \u001b[1;32mc:\\Users\\Preeti Khamkar\\Python__\\Lib\\site-packages\\sklearn\\model_selection\\_validation.py:895\u001b[0m, in \u001b[0;36m_fit_and_score\u001b[1;34m(estimator, X, y, scorer, train, test, verbose, parameters, fit_params, score_params, return_train_score, return_parameters, return_n_test_samples, return_times, return_estimator, split_progress, candidate_progress, error_score)\u001b[0m\n\u001b[0;32m    893\u001b[0m         estimator\u001b[38;5;241m.\u001b[39mfit(X_train, \u001b[38;5;241m*\u001b[39m\u001b[38;5;241m*\u001b[39mfit_params)\n\u001b[0;32m    894\u001b[0m     \u001b[38;5;28;01melse\u001b[39;00m:\n\u001b[1;32m--> 895\u001b[0m         \u001b[43mestimator\u001b[49m\u001b[38;5;241;43m.\u001b[39;49m\u001b[43mfit\u001b[49m\u001b[43m(\u001b[49m\u001b[43mX_train\u001b[49m\u001b[43m,\u001b[49m\u001b[43m \u001b[49m\u001b[43my_train\u001b[49m\u001b[43m,\u001b[49m\u001b[43m \u001b[49m\u001b[38;5;241;43m*\u001b[39;49m\u001b[38;5;241;43m*\u001b[39;49m\u001b[43mfit_params\u001b[49m\u001b[43m)\u001b[49m\n\u001b[0;32m    897\u001b[0m \u001b[38;5;28;01mexcept\u001b[39;00m \u001b[38;5;167;01mException\u001b[39;00m:\n\u001b[0;32m    898\u001b[0m     \u001b[38;5;66;03m# Note fit time as time until error\u001b[39;00m\n\u001b[0;32m    899\u001b[0m     fit_time \u001b[38;5;241m=\u001b[39m time\u001b[38;5;241m.\u001b[39mtime() \u001b[38;5;241m-\u001b[39m start_time\n",
            "File \u001b[1;32mc:\\Users\\Preeti Khamkar\\Python__\\Lib\\site-packages\\sklearn\\base.py:1474\u001b[0m, in \u001b[0;36m_fit_context.<locals>.decorator.<locals>.wrapper\u001b[1;34m(estimator, *args, **kwargs)\u001b[0m\n\u001b[0;32m   1467\u001b[0m     estimator\u001b[38;5;241m.\u001b[39m_validate_params()\n\u001b[0;32m   1469\u001b[0m \u001b[38;5;28;01mwith\u001b[39;00m config_context(\n\u001b[0;32m   1470\u001b[0m     skip_parameter_validation\u001b[38;5;241m=\u001b[39m(\n\u001b[0;32m   1471\u001b[0m         prefer_skip_nested_validation \u001b[38;5;129;01mor\u001b[39;00m global_skip_validation\n\u001b[0;32m   1472\u001b[0m     )\n\u001b[0;32m   1473\u001b[0m ):\n\u001b[1;32m-> 1474\u001b[0m     \u001b[38;5;28;01mreturn\u001b[39;00m \u001b[43mfit_method\u001b[49m\u001b[43m(\u001b[49m\u001b[43mestimator\u001b[49m\u001b[43m,\u001b[49m\u001b[43m \u001b[49m\u001b[38;5;241;43m*\u001b[39;49m\u001b[43margs\u001b[49m\u001b[43m,\u001b[49m\u001b[43m \u001b[49m\u001b[38;5;241;43m*\u001b[39;49m\u001b[38;5;241;43m*\u001b[39;49m\u001b[43mkwargs\u001b[49m\u001b[43m)\u001b[49m\n",
            "File \u001b[1;32mc:\\Users\\Preeti Khamkar\\Python__\\Lib\\site-packages\\sklearn\\linear_model\\_logistic.py:1209\u001b[0m, in \u001b[0;36mLogisticRegression.fit\u001b[1;34m(self, X, y, sample_weight)\u001b[0m\n\u001b[0;32m   1199\u001b[0m     _dtype \u001b[38;5;241m=\u001b[39m [np\u001b[38;5;241m.\u001b[39mfloat64, np\u001b[38;5;241m.\u001b[39mfloat32]\n\u001b[0;32m   1201\u001b[0m X, y \u001b[38;5;241m=\u001b[39m \u001b[38;5;28mself\u001b[39m\u001b[38;5;241m.\u001b[39m_validate_data(\n\u001b[0;32m   1202\u001b[0m     X,\n\u001b[0;32m   1203\u001b[0m     y,\n\u001b[1;32m   (...)\u001b[0m\n\u001b[0;32m   1207\u001b[0m     accept_large_sparse\u001b[38;5;241m=\u001b[39msolver \u001b[38;5;129;01mnot\u001b[39;00m \u001b[38;5;129;01min\u001b[39;00m [\u001b[38;5;124m\"\u001b[39m\u001b[38;5;124mliblinear\u001b[39m\u001b[38;5;124m\"\u001b[39m, \u001b[38;5;124m\"\u001b[39m\u001b[38;5;124msag\u001b[39m\u001b[38;5;124m\"\u001b[39m, \u001b[38;5;124m\"\u001b[39m\u001b[38;5;124msaga\u001b[39m\u001b[38;5;124m\"\u001b[39m],\n\u001b[0;32m   1208\u001b[0m )\n\u001b[1;32m-> 1209\u001b[0m \u001b[43mcheck_classification_targets\u001b[49m\u001b[43m(\u001b[49m\u001b[43my\u001b[49m\u001b[43m)\u001b[49m\n\u001b[0;32m   1210\u001b[0m \u001b[38;5;28mself\u001b[39m\u001b[38;5;241m.\u001b[39mclasses_ \u001b[38;5;241m=\u001b[39m np\u001b[38;5;241m.\u001b[39munique(y)\n\u001b[0;32m   1212\u001b[0m multi_class \u001b[38;5;241m=\u001b[39m _check_multi_class(\u001b[38;5;28mself\u001b[39m\u001b[38;5;241m.\u001b[39mmulti_class, solver, \u001b[38;5;28mlen\u001b[39m(\u001b[38;5;28mself\u001b[39m\u001b[38;5;241m.\u001b[39mclasses_))\n",
            "File \u001b[1;32mc:\\Users\\Preeti Khamkar\\Python__\\Lib\\site-packages\\sklearn\\utils\\multiclass.py:221\u001b[0m, in \u001b[0;36mcheck_classification_targets\u001b[1;34m(y)\u001b[0m\n\u001b[0;32m    213\u001b[0m y_type \u001b[38;5;241m=\u001b[39m type_of_target(y, input_name\u001b[38;5;241m=\u001b[39m\u001b[38;5;124m\"\u001b[39m\u001b[38;5;124my\u001b[39m\u001b[38;5;124m\"\u001b[39m)\n\u001b[0;32m    214\u001b[0m \u001b[38;5;28;01mif\u001b[39;00m y_type \u001b[38;5;129;01mnot\u001b[39;00m \u001b[38;5;129;01min\u001b[39;00m [\n\u001b[0;32m    215\u001b[0m     \u001b[38;5;124m\"\u001b[39m\u001b[38;5;124mbinary\u001b[39m\u001b[38;5;124m\"\u001b[39m,\n\u001b[0;32m    216\u001b[0m     \u001b[38;5;124m\"\u001b[39m\u001b[38;5;124mmulticlass\u001b[39m\u001b[38;5;124m\"\u001b[39m,\n\u001b[1;32m   (...)\u001b[0m\n\u001b[0;32m    219\u001b[0m     \u001b[38;5;124m\"\u001b[39m\u001b[38;5;124mmultilabel-sequences\u001b[39m\u001b[38;5;124m\"\u001b[39m,\n\u001b[0;32m    220\u001b[0m ]:\n\u001b[1;32m--> 221\u001b[0m     \u001b[38;5;28;01mraise\u001b[39;00m \u001b[38;5;167;01mValueError\u001b[39;00m(\n\u001b[0;32m    222\u001b[0m         \u001b[38;5;124mf\u001b[39m\u001b[38;5;124m\"\u001b[39m\u001b[38;5;124mUnknown label type: \u001b[39m\u001b[38;5;132;01m{\u001b[39;00my_type\u001b[38;5;132;01m}\u001b[39;00m\u001b[38;5;124m. Maybe you are trying to fit a \u001b[39m\u001b[38;5;124m\"\u001b[39m\n\u001b[0;32m    223\u001b[0m         \u001b[38;5;124m\"\u001b[39m\u001b[38;5;124mclassifier, which expects discrete classes on a \u001b[39m\u001b[38;5;124m\"\u001b[39m\n\u001b[0;32m    224\u001b[0m         \u001b[38;5;124m\"\u001b[39m\u001b[38;5;124mregression target with continuous values.\u001b[39m\u001b[38;5;124m\"\u001b[39m\n\u001b[0;32m    225\u001b[0m     )\n",
            "\u001b[1;31mValueError\u001b[0m: Unknown label type: continuous. Maybe you are trying to fit a classifier, which expects discrete classes on a regression target with continuous values."
          ]
        }
      ],
      "source": [
        "reg_model = GridSearchCV(reg , param_grid = parameter , scoring = 'accuracy' , cv= 5 , error_score='raise')\n",
        "reg_model.fit(x_train , y_train)"
      ]
    }
  ],
  "metadata": {
    "colab": {
      "provenance": []
    },
    "kernelspec": {
      "display_name": "Python 3",
      "name": "python3"
    },
    "language_info": {
      "codemirror_mode": {
        "name": "ipython",
        "version": 3
      },
      "file_extension": ".py",
      "mimetype": "text/x-python",
      "name": "python",
      "nbconvert_exporter": "python",
      "pygments_lexer": "ipython3",
      "version": "3.11.2"
    }
  },
  "nbformat": 4,
  "nbformat_minor": 0
}
